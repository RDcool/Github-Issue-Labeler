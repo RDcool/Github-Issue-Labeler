{
 "nbformat": 4,
 "nbformat_minor": 0,
 "metadata": {
  "colab": {
   "provenance": [],
   "gpuType": "T4"
  },
  "kernelspec": {
   "name": "python3",
   "display_name": "Python 3"
  },
  "language_info": {
   "name": "python"
  },
  "accelerator": "GPU"
 },
 "cells": [
  {
   "cell_type": "markdown",
   "source": [
    "# Модели на основе трансформеров. Оценка качества"
   ],
   "metadata": {
    "id": "86Sr9W4L7eDi",
    "pycharm": {
     "name": "#%% md\n"
    }
   }
  },
  {
   "cell_type": "code",
   "execution_count": null,
   "metadata": {
    "id": "khoOBTGb7R2g",
    "pycharm": {
     "name": "#%%\n"
    }
   },
   "outputs": [],
   "source": [
    "!pip install transformers[sentencepiece] datasets evaluate accelerate xformers"
   ]
  },
  {
   "cell_type": "code",
   "source": [
    "# Монтирование google-диска\n",
    "from google.colab import drive\n",
    "drive.mount('/content/drive/')"
   ],
   "metadata": {
    "colab": {
     "base_uri": "https://localhost:8080/"
    },
    "id": "HSkvJv8U7nRt",
    "outputId": "f8977c3a-6e30-43d9-a58c-27d7a1aa0e15",
    "pycharm": {
     "name": "#%%\n"
    }
   },
   "execution_count": 2,
   "outputs": [
    {
     "output_type": "stream",
     "name": "stdout",
     "text": [
      "Mounted at /content/drive/\n"
     ]
    }
   ]
  },
  {
   "cell_type": "code",
   "source": [
    "# Проверка доступной видеокарты\n",
    "!nvidia-smi"
   ],
   "metadata": {
    "colab": {
     "base_uri": "https://localhost:8080/"
    },
    "id": "LfXV5TI07pY9",
    "outputId": "e042734f-7455-49ce-a98f-64c3b3616413",
    "pycharm": {
     "name": "#%%\n"
    }
   },
   "execution_count": 3,
   "outputs": [
    {
     "output_type": "stream",
     "name": "stdout",
     "text": [
      "Mon Jun 12 18:41:55 2023       \n",
      "+-----------------------------------------------------------------------------+\n",
      "| NVIDIA-SMI 525.85.12    Driver Version: 525.85.12    CUDA Version: 12.0     |\n",
      "|-------------------------------+----------------------+----------------------+\n",
      "| GPU  Name        Persistence-M| Bus-Id        Disp.A | Volatile Uncorr. ECC |\n",
      "| Fan  Temp  Perf  Pwr:Usage/Cap|         Memory-Usage | GPU-Util  Compute M. |\n",
      "|                               |                      |               MIG M. |\n",
      "|===============================+======================+======================|\n",
      "|   0  Tesla T4            Off  | 00000000:00:04.0 Off |                    0 |\n",
      "| N/A   63C    P8    10W /  70W |      0MiB / 15360MiB |      0%      Default |\n",
      "|                               |                      |                  N/A |\n",
      "+-------------------------------+----------------------+----------------------+\n",
      "                                                                               \n",
      "+-----------------------------------------------------------------------------+\n",
      "| Processes:                                                                  |\n",
      "|  GPU   GI   CI        PID   Type   Process name                  GPU Memory |\n",
      "|        ID   ID                                                   Usage      |\n",
      "|=============================================================================|\n",
      "|  No running processes found                                                 |\n",
      "+-----------------------------------------------------------------------------+\n"
     ]
    }
   ]
  },
  {
   "cell_type": "code",
   "source": [
    "from datasets import load_dataset\n",
    "from transformers import pipeline, AutoTokenizer\n",
    "from evaluate.visualization import radar_plot\n",
    "\n",
    "import numpy as np\n",
    "import pandas as pd\n",
    "import evaluate\n",
    "import time\n",
    "import seaborn as sns\n",
    "import matplotlib.pyplot as plt\n",
    "\n",
    "%matplotlib inline\n",
    "sns.set(style='whitegrid')"
   ],
   "metadata": {
    "id": "i-qozT6l7rGP",
    "pycharm": {
     "name": "#%%\n"
    }
   },
   "execution_count": 4,
   "outputs": []
  },
  {
   "cell_type": "code",
   "source": [
    "models_name = [\"BERT\", \"distilBERT\", \"RoBERTa\", \"DeBERTa v3\"] \n",
    "models_path =[\n",
    "   \"drive/MyDrive/models/BERT/BERT_best_model/\",\n",
    "    \"drive/MyDrive/models/distilBERT/distilBERT_best_model/\",\n",
    "    \"drive/MyDrive/models/RoBERTa/RoBERTa_best_model/\",\n",
    "    \"drive/MyDrive/models/DeBERTa/DeBERTa_best_model/\"\n",
    "]"
   ],
   "metadata": {
    "id": "YOBVUc6d7wke",
    "pycharm": {
     "name": "#%%\n"
    }
   },
   "execution_count": 11,
   "outputs": []
  },
  {
   "cell_type": "code",
   "source": [
    "# Создание тестового датасета\n",
    "data = load_dataset(\"csv\", data_files=\"issue_data_encoded_small.csv\", data_dir=\"drive/MyDrive/datasets\")\n",
    "data = data['train'].train_test_split(test_size=0.2, seed=2)\n",
    "test_data = data['test']"
   ],
   "metadata": {
    "id": "Th72Acw1780i",
    "pycharm": {
     "name": "#%%\n"
    }
   },
   "execution_count": null,
   "outputs": []
  },
  {
   "cell_type": "code",
   "source": [
    "test_data"
   ],
   "metadata": {
    "colab": {
     "base_uri": "https://localhost:8080/"
    },
    "id": "rFDayS0sAr0_",
    "outputId": "f5b05902-efa2-4ba4-a42b-65693ae8c76e",
    "pycharm": {
     "name": "#%%\n"
    }
   },
   "execution_count": 7,
   "outputs": [
    {
     "output_type": "execute_result",
     "data": {
      "text/plain": [
       "Dataset({\n",
       "    features: ['labels', 'text'],\n",
       "    num_rows: 16000\n",
       "})"
      ]
     },
     "metadata": {},
     "execution_count": 7
    }
   ]
  },
  {
   "cell_type": "code",
   "source": [
    "# Загрузка метрик\n",
    "precision = evaluate.load(\"precision\")\n",
    "recall = evaluate.load(\"recall\")\n",
    "f1 = evaluate.load(\"f1\")\n",
    "classification_report_metric = evaluate.load(\"bstrai/classification_report\")"
   ],
   "metadata": {
    "id": "jR4HIKeB8GaD",
    "pycharm": {
     "name": "#%%\n"
    }
   },
   "execution_count": null,
   "outputs": []
  },
  {
   "cell_type": "code",
   "source": [
    "def label_to_num(label):\n",
    "    if label == 'bug':\n",
    "        number = 0\n",
    "    elif label == 'enhancement':\n",
    "        number = 1\n",
    "    elif label == 'documentation':\n",
    "        number = 2\n",
    "    else:\n",
    "        number = 3\n",
    "    return number"
   ],
   "metadata": {
    "id": "AtuINDdo8LH0",
    "pycharm": {
     "name": "#%%\n"
    }
   },
   "execution_count": 9,
   "outputs": []
  },
  {
   "cell_type": "code",
   "source": [
    "# Оценка качества моделей\n",
    "classification_reports = []\n",
    "f1_classes = []\n",
    "f1_micro = []\n",
    "precision_micro = []\n",
    "rec_micro = []\n",
    "\n",
    "for model in models_path:\n",
    "    classifier = pipeline(\"text-classification\", model=model, tokenizer=AutoTokenizer.from_pretrained(model), device=0)\n",
    "\n",
    "    start_time = time.time()\n",
    "    pred = classifier(test_data['text'], padding=True, truncation=True, max_length=384)\n",
    "    print(f\"{models_name[models_path.index(model)]}: {time.time() - start_time} секунд \\n\")\n",
    "\n",
    "    pred_list = [pred[i]['label'] for i in range(0, len(pred))]\n",
    "    pred_list = list(map(label_to_num, pred_list))\n",
    "\n",
    "    classification_reports.append(classification_report_metric.compute(references=test_data[\"labels\"],\n",
    "                                                                       predictions=pred_list,\n",
    "                                                                       target_names=[\"bug\", \"enhancement\", \"documentation\", \"question\"]))\n",
    "\n",
    "    precision_micro.append(precision.compute(references=test_data[\"labels\"],\n",
    "                               predictions=pred_list,\n",
    "                               average=\"micro\"))\n",
    "    rec_micro.append(recall.compute(references=test_data[\"labels\"],\n",
    "                               predictions=pred_list,\n",
    "                               average=\"micro\"))\n",
    "    f1_micro.append(f1.compute(references=test_data[\"labels\"],\n",
    "                               predictions=pred_list,\n",
    "                               average=\"micro\"))\n",
    "\n",
    "    f1_classes.append(f1.compute(references=test_data[\"labels\"],\n",
    "                               predictions=pred_list,\n",
    "                               average=None))"
   ],
   "metadata": {
    "colab": {
     "base_uri": "https://localhost:8080/"
    },
    "id": "BPaWK-Af8LqT",
    "outputId": "732b8409-61a0-47bf-dedb-7173673e0c7c",
    "pycharm": {
     "name": "#%%\n"
    }
   },
   "execution_count": 12,
   "outputs": [
    {
     "output_type": "stream",
     "name": "stdout",
     "text": [
      "BERT: 221.1273763179779 секунд \n",
      "\n",
      "distilBERT: 124.05532908439636 секунд \n",
      "\n",
      "RoBERTa: 222.2034456729889 секунд \n",
      "\n"
     ]
    },
    {
     "output_type": "stream",
     "name": "stderr",
     "text": [
      "Special tokens have been added in the vocabulary, make sure the associated word embeddings are fine-tuned or trained.\n",
      "/usr/local/lib/python3.10/dist-packages/transformers/convert_slow_tokenizer.py:454: UserWarning: The sentencepiece tokenizer that you are converting to a fast tokenizer uses the byte fallback option which is not implemented in the fast tokenizers. In practice this means that the fast version of the tokenizer can produce unknown tokens whereas the sentencepiece version would have converted these unknown tokens into a sequence of byte tokens matching the original piece of text.\n",
      "  warnings.warn(\n",
      "Special tokens have been added in the vocabulary, make sure the associated word embeddings are fine-tuned or trained.\n"
     ]
    },
    {
     "output_type": "stream",
     "name": "stdout",
     "text": [
      "DeBERTa v3: 392.8438923358917 секунд \n",
      "\n"
     ]
    }
   ]
  },
  {
   "cell_type": "code",
   "source": [
    "classification_reports_df = [pd.DataFrame(classification_report).transpose() for classification_report in classification_reports]"
   ],
   "metadata": {
    "id": "bYbSmT4L8OKZ",
    "pycharm": {
     "name": "#%%\n"
    }
   },
   "execution_count": 13,
   "outputs": []
  },
  {
   "cell_type": "code",
   "source": [
    "# BERT\n",
    "classification_reports_df[0]"
   ],
   "metadata": {
    "colab": {
     "base_uri": "https://localhost:8080/",
     "height": 269
    },
    "id": "Lz6k2xxj8P1R",
    "outputId": "0d40a5ab-97b3-4611-cfcd-c1f8bfd511ab",
    "pycharm": {
     "name": "#%%\n"
    }
   },
   "execution_count": 14,
   "outputs": [
    {
     "output_type": "execute_result",
     "data": {
      "text/plain": [
       "               precision    recall  f1-score      support\n",
       "bug             0.816582  0.878426  0.846375   4014.00000\n",
       "enhancement     0.842606  0.865197  0.853752   3991.00000\n",
       "documentation   0.887758  0.859749  0.873529   4057.00000\n",
       "question        0.845144  0.784408  0.813644   3938.00000\n",
       "accuracy        0.847250  0.847250  0.847250      0.84725\n",
       "macro avg       0.848022  0.846945  0.846825  16000.00000\n",
       "weighted avg    0.848151  0.847250  0.847044  16000.00000"
      ],
      "text/html": [
       "\n",
       "  <div id=\"df-a8119c97-a6ae-4872-89f9-f8f04948fea0\">\n",
       "    <div class=\"colab-df-container\">\n",
       "      <div>\n",
       "<style scoped>\n",
       "    .dataframe tbody tr th:only-of-type {\n",
       "        vertical-align: middle;\n",
       "    }\n",
       "\n",
       "    .dataframe tbody tr th {\n",
       "        vertical-align: top;\n",
       "    }\n",
       "\n",
       "    .dataframe thead th {\n",
       "        text-align: right;\n",
       "    }\n",
       "</style>\n",
       "<table border=\"1\" class=\"dataframe\">\n",
       "  <thead>\n",
       "    <tr style=\"text-align: right;\">\n",
       "      <th></th>\n",
       "      <th>precision</th>\n",
       "      <th>recall</th>\n",
       "      <th>f1-score</th>\n",
       "      <th>support</th>\n",
       "    </tr>\n",
       "  </thead>\n",
       "  <tbody>\n",
       "    <tr>\n",
       "      <th>bug</th>\n",
       "      <td>0.816582</td>\n",
       "      <td>0.878426</td>\n",
       "      <td>0.846375</td>\n",
       "      <td>4014.00000</td>\n",
       "    </tr>\n",
       "    <tr>\n",
       "      <th>enhancement</th>\n",
       "      <td>0.842606</td>\n",
       "      <td>0.865197</td>\n",
       "      <td>0.853752</td>\n",
       "      <td>3991.00000</td>\n",
       "    </tr>\n",
       "    <tr>\n",
       "      <th>documentation</th>\n",
       "      <td>0.887758</td>\n",
       "      <td>0.859749</td>\n",
       "      <td>0.873529</td>\n",
       "      <td>4057.00000</td>\n",
       "    </tr>\n",
       "    <tr>\n",
       "      <th>question</th>\n",
       "      <td>0.845144</td>\n",
       "      <td>0.784408</td>\n",
       "      <td>0.813644</td>\n",
       "      <td>3938.00000</td>\n",
       "    </tr>\n",
       "    <tr>\n",
       "      <th>accuracy</th>\n",
       "      <td>0.847250</td>\n",
       "      <td>0.847250</td>\n",
       "      <td>0.847250</td>\n",
       "      <td>0.84725</td>\n",
       "    </tr>\n",
       "    <tr>\n",
       "      <th>macro avg</th>\n",
       "      <td>0.848022</td>\n",
       "      <td>0.846945</td>\n",
       "      <td>0.846825</td>\n",
       "      <td>16000.00000</td>\n",
       "    </tr>\n",
       "    <tr>\n",
       "      <th>weighted avg</th>\n",
       "      <td>0.848151</td>\n",
       "      <td>0.847250</td>\n",
       "      <td>0.847044</td>\n",
       "      <td>16000.00000</td>\n",
       "    </tr>\n",
       "  </tbody>\n",
       "</table>\n",
       "</div>\n",
       "      <button class=\"colab-df-convert\" onclick=\"convertToInteractive('df-a8119c97-a6ae-4872-89f9-f8f04948fea0')\"\n",
       "              title=\"Convert this dataframe to an interactive table.\"\n",
       "              style=\"display:none;\">\n",
       "        \n",
       "  <svg xmlns=\"http://www.w3.org/2000/svg\" height=\"24px\"viewBox=\"0 0 24 24\"\n",
       "       width=\"24px\">\n",
       "    <path d=\"M0 0h24v24H0V0z\" fill=\"none\"/>\n",
       "    <path d=\"M18.56 5.44l.94 2.06.94-2.06 2.06-.94-2.06-.94-.94-2.06-.94 2.06-2.06.94zm-11 1L8.5 8.5l.94-2.06 2.06-.94-2.06-.94L8.5 2.5l-.94 2.06-2.06.94zm10 10l.94 2.06.94-2.06 2.06-.94-2.06-.94-.94-2.06-.94 2.06-2.06.94z\"/><path d=\"M17.41 7.96l-1.37-1.37c-.4-.4-.92-.59-1.43-.59-.52 0-1.04.2-1.43.59L10.3 9.45l-7.72 7.72c-.78.78-.78 2.05 0 2.83L4 21.41c.39.39.9.59 1.41.59.51 0 1.02-.2 1.41-.59l7.78-7.78 2.81-2.81c.8-.78.8-2.07 0-2.86zM5.41 20L4 18.59l7.72-7.72 1.47 1.35L5.41 20z\"/>\n",
       "  </svg>\n",
       "      </button>\n",
       "      \n",
       "  <style>\n",
       "    .colab-df-container {\n",
       "      display:flex;\n",
       "      flex-wrap:wrap;\n",
       "      gap: 12px;\n",
       "    }\n",
       "\n",
       "    .colab-df-convert {\n",
       "      background-color: #E8F0FE;\n",
       "      border: none;\n",
       "      border-radius: 50%;\n",
       "      cursor: pointer;\n",
       "      display: none;\n",
       "      fill: #1967D2;\n",
       "      height: 32px;\n",
       "      padding: 0 0 0 0;\n",
       "      width: 32px;\n",
       "    }\n",
       "\n",
       "    .colab-df-convert:hover {\n",
       "      background-color: #E2EBFA;\n",
       "      box-shadow: 0px 1px 2px rgba(60, 64, 67, 0.3), 0px 1px 3px 1px rgba(60, 64, 67, 0.15);\n",
       "      fill: #174EA6;\n",
       "    }\n",
       "\n",
       "    [theme=dark] .colab-df-convert {\n",
       "      background-color: #3B4455;\n",
       "      fill: #D2E3FC;\n",
       "    }\n",
       "\n",
       "    [theme=dark] .colab-df-convert:hover {\n",
       "      background-color: #434B5C;\n",
       "      box-shadow: 0px 1px 3px 1px rgba(0, 0, 0, 0.15);\n",
       "      filter: drop-shadow(0px 1px 2px rgba(0, 0, 0, 0.3));\n",
       "      fill: #FFFFFF;\n",
       "    }\n",
       "  </style>\n",
       "\n",
       "      <script>\n",
       "        const buttonEl =\n",
       "          document.querySelector('#df-a8119c97-a6ae-4872-89f9-f8f04948fea0 button.colab-df-convert');\n",
       "        buttonEl.style.display =\n",
       "          google.colab.kernel.accessAllowed ? 'block' : 'none';\n",
       "\n",
       "        async function convertToInteractive(key) {\n",
       "          const element = document.querySelector('#df-a8119c97-a6ae-4872-89f9-f8f04948fea0');\n",
       "          const dataTable =\n",
       "            await google.colab.kernel.invokeFunction('convertToInteractive',\n",
       "                                                     [key], {});\n",
       "          if (!dataTable) return;\n",
       "\n",
       "          const docLinkHtml = 'Like what you see? Visit the ' +\n",
       "            '<a target=\"_blank\" href=https://colab.research.google.com/notebooks/data_table.ipynb>data table notebook</a>'\n",
       "            + ' to learn more about interactive tables.';\n",
       "          element.innerHTML = '';\n",
       "          dataTable['output_type'] = 'display_data';\n",
       "          await google.colab.output.renderOutput(dataTable, element);\n",
       "          const docLink = document.createElement('div');\n",
       "          docLink.innerHTML = docLinkHtml;\n",
       "          element.appendChild(docLink);\n",
       "        }\n",
       "      </script>\n",
       "    </div>\n",
       "  </div>\n",
       "  "
      ]
     },
     "metadata": {},
     "execution_count": 14
    }
   ]
  },
  {
   "cell_type": "code",
   "source": [
    "# distilBERT\n",
    "classification_reports_df[1]"
   ],
   "metadata": {
    "colab": {
     "base_uri": "https://localhost:8080/",
     "height": 269
    },
    "id": "-86xF8gE8RR3",
    "outputId": "2f74cc3e-1db0-4cfe-a991-12012a0718f5",
    "pycharm": {
     "name": "#%%\n"
    }
   },
   "execution_count": 15,
   "outputs": [
    {
     "output_type": "execute_result",
     "data": {
      "text/plain": [
       "               precision    recall  f1-score       support\n",
       "bug             0.815880  0.890882  0.851733   4014.000000\n",
       "enhancement     0.852868  0.864194  0.858494   3991.000000\n",
       "documentation   0.915753  0.843973  0.878399   4057.000000\n",
       "question        0.838289  0.816150  0.827072   3938.000000\n",
       "accuracy        0.853938  0.853938  0.853938      0.853938\n",
       "macro avg       0.855697  0.853800  0.853924  16000.000000\n",
       "weighted avg    0.855946  0.853938  0.854111  16000.000000"
      ],
      "text/html": [
       "\n",
       "  <div id=\"df-70601652-e78e-4cba-8891-4eb5229a7902\">\n",
       "    <div class=\"colab-df-container\">\n",
       "      <div>\n",
       "<style scoped>\n",
       "    .dataframe tbody tr th:only-of-type {\n",
       "        vertical-align: middle;\n",
       "    }\n",
       "\n",
       "    .dataframe tbody tr th {\n",
       "        vertical-align: top;\n",
       "    }\n",
       "\n",
       "    .dataframe thead th {\n",
       "        text-align: right;\n",
       "    }\n",
       "</style>\n",
       "<table border=\"1\" class=\"dataframe\">\n",
       "  <thead>\n",
       "    <tr style=\"text-align: right;\">\n",
       "      <th></th>\n",
       "      <th>precision</th>\n",
       "      <th>recall</th>\n",
       "      <th>f1-score</th>\n",
       "      <th>support</th>\n",
       "    </tr>\n",
       "  </thead>\n",
       "  <tbody>\n",
       "    <tr>\n",
       "      <th>bug</th>\n",
       "      <td>0.815880</td>\n",
       "      <td>0.890882</td>\n",
       "      <td>0.851733</td>\n",
       "      <td>4014.000000</td>\n",
       "    </tr>\n",
       "    <tr>\n",
       "      <th>enhancement</th>\n",
       "      <td>0.852868</td>\n",
       "      <td>0.864194</td>\n",
       "      <td>0.858494</td>\n",
       "      <td>3991.000000</td>\n",
       "    </tr>\n",
       "    <tr>\n",
       "      <th>documentation</th>\n",
       "      <td>0.915753</td>\n",
       "      <td>0.843973</td>\n",
       "      <td>0.878399</td>\n",
       "      <td>4057.000000</td>\n",
       "    </tr>\n",
       "    <tr>\n",
       "      <th>question</th>\n",
       "      <td>0.838289</td>\n",
       "      <td>0.816150</td>\n",
       "      <td>0.827072</td>\n",
       "      <td>3938.000000</td>\n",
       "    </tr>\n",
       "    <tr>\n",
       "      <th>accuracy</th>\n",
       "      <td>0.853938</td>\n",
       "      <td>0.853938</td>\n",
       "      <td>0.853938</td>\n",
       "      <td>0.853938</td>\n",
       "    </tr>\n",
       "    <tr>\n",
       "      <th>macro avg</th>\n",
       "      <td>0.855697</td>\n",
       "      <td>0.853800</td>\n",
       "      <td>0.853924</td>\n",
       "      <td>16000.000000</td>\n",
       "    </tr>\n",
       "    <tr>\n",
       "      <th>weighted avg</th>\n",
       "      <td>0.855946</td>\n",
       "      <td>0.853938</td>\n",
       "      <td>0.854111</td>\n",
       "      <td>16000.000000</td>\n",
       "    </tr>\n",
       "  </tbody>\n",
       "</table>\n",
       "</div>\n",
       "      <button class=\"colab-df-convert\" onclick=\"convertToInteractive('df-70601652-e78e-4cba-8891-4eb5229a7902')\"\n",
       "              title=\"Convert this dataframe to an interactive table.\"\n",
       "              style=\"display:none;\">\n",
       "        \n",
       "  <svg xmlns=\"http://www.w3.org/2000/svg\" height=\"24px\"viewBox=\"0 0 24 24\"\n",
       "       width=\"24px\">\n",
       "    <path d=\"M0 0h24v24H0V0z\" fill=\"none\"/>\n",
       "    <path d=\"M18.56 5.44l.94 2.06.94-2.06 2.06-.94-2.06-.94-.94-2.06-.94 2.06-2.06.94zm-11 1L8.5 8.5l.94-2.06 2.06-.94-2.06-.94L8.5 2.5l-.94 2.06-2.06.94zm10 10l.94 2.06.94-2.06 2.06-.94-2.06-.94-.94-2.06-.94 2.06-2.06.94z\"/><path d=\"M17.41 7.96l-1.37-1.37c-.4-.4-.92-.59-1.43-.59-.52 0-1.04.2-1.43.59L10.3 9.45l-7.72 7.72c-.78.78-.78 2.05 0 2.83L4 21.41c.39.39.9.59 1.41.59.51 0 1.02-.2 1.41-.59l7.78-7.78 2.81-2.81c.8-.78.8-2.07 0-2.86zM5.41 20L4 18.59l7.72-7.72 1.47 1.35L5.41 20z\"/>\n",
       "  </svg>\n",
       "      </button>\n",
       "      \n",
       "  <style>\n",
       "    .colab-df-container {\n",
       "      display:flex;\n",
       "      flex-wrap:wrap;\n",
       "      gap: 12px;\n",
       "    }\n",
       "\n",
       "    .colab-df-convert {\n",
       "      background-color: #E8F0FE;\n",
       "      border: none;\n",
       "      border-radius: 50%;\n",
       "      cursor: pointer;\n",
       "      display: none;\n",
       "      fill: #1967D2;\n",
       "      height: 32px;\n",
       "      padding: 0 0 0 0;\n",
       "      width: 32px;\n",
       "    }\n",
       "\n",
       "    .colab-df-convert:hover {\n",
       "      background-color: #E2EBFA;\n",
       "      box-shadow: 0px 1px 2px rgba(60, 64, 67, 0.3), 0px 1px 3px 1px rgba(60, 64, 67, 0.15);\n",
       "      fill: #174EA6;\n",
       "    }\n",
       "\n",
       "    [theme=dark] .colab-df-convert {\n",
       "      background-color: #3B4455;\n",
       "      fill: #D2E3FC;\n",
       "    }\n",
       "\n",
       "    [theme=dark] .colab-df-convert:hover {\n",
       "      background-color: #434B5C;\n",
       "      box-shadow: 0px 1px 3px 1px rgba(0, 0, 0, 0.15);\n",
       "      filter: drop-shadow(0px 1px 2px rgba(0, 0, 0, 0.3));\n",
       "      fill: #FFFFFF;\n",
       "    }\n",
       "  </style>\n",
       "\n",
       "      <script>\n",
       "        const buttonEl =\n",
       "          document.querySelector('#df-70601652-e78e-4cba-8891-4eb5229a7902 button.colab-df-convert');\n",
       "        buttonEl.style.display =\n",
       "          google.colab.kernel.accessAllowed ? 'block' : 'none';\n",
       "\n",
       "        async function convertToInteractive(key) {\n",
       "          const element = document.querySelector('#df-70601652-e78e-4cba-8891-4eb5229a7902');\n",
       "          const dataTable =\n",
       "            await google.colab.kernel.invokeFunction('convertToInteractive',\n",
       "                                                     [key], {});\n",
       "          if (!dataTable) return;\n",
       "\n",
       "          const docLinkHtml = 'Like what you see? Visit the ' +\n",
       "            '<a target=\"_blank\" href=https://colab.research.google.com/notebooks/data_table.ipynb>data table notebook</a>'\n",
       "            + ' to learn more about interactive tables.';\n",
       "          element.innerHTML = '';\n",
       "          dataTable['output_type'] = 'display_data';\n",
       "          await google.colab.output.renderOutput(dataTable, element);\n",
       "          const docLink = document.createElement('div');\n",
       "          docLink.innerHTML = docLinkHtml;\n",
       "          element.appendChild(docLink);\n",
       "        }\n",
       "      </script>\n",
       "    </div>\n",
       "  </div>\n",
       "  "
      ]
     },
     "metadata": {},
     "execution_count": 15
    }
   ]
  },
  {
   "cell_type": "code",
   "source": [
    "# RoBERTa\n",
    "classification_reports_df[2]"
   ],
   "metadata": {
    "colab": {
     "base_uri": "https://localhost:8080/",
     "height": 269
    },
    "id": "EwQo-5KM8Sa9",
    "outputId": "27367b68-3b76-4b3e-8ffe-3a6361b21593",
    "pycharm": {
     "name": "#%%\n"
    }
   },
   "execution_count": 16,
   "outputs": [
    {
     "output_type": "execute_result",
     "data": {
      "text/plain": [
       "               precision    recall  f1-score     support\n",
       "bug             0.847073  0.865222  0.856051   4014.0000\n",
       "enhancement     0.849491  0.878226  0.863620   3991.0000\n",
       "documentation   0.911935  0.855065  0.882585   4057.0000\n",
       "question        0.828463  0.835196  0.831816   3938.0000\n",
       "accuracy        0.858500  0.858500  0.858500      0.8585\n",
       "macro avg       0.859241  0.858427  0.858518  16000.0000\n",
       "weighted avg    0.859542  0.858500  0.858702  16000.0000"
      ],
      "text/html": [
       "\n",
       "  <div id=\"df-a9877451-d327-4dbc-8bae-d023398fcbcf\">\n",
       "    <div class=\"colab-df-container\">\n",
       "      <div>\n",
       "<style scoped>\n",
       "    .dataframe tbody tr th:only-of-type {\n",
       "        vertical-align: middle;\n",
       "    }\n",
       "\n",
       "    .dataframe tbody tr th {\n",
       "        vertical-align: top;\n",
       "    }\n",
       "\n",
       "    .dataframe thead th {\n",
       "        text-align: right;\n",
       "    }\n",
       "</style>\n",
       "<table border=\"1\" class=\"dataframe\">\n",
       "  <thead>\n",
       "    <tr style=\"text-align: right;\">\n",
       "      <th></th>\n",
       "      <th>precision</th>\n",
       "      <th>recall</th>\n",
       "      <th>f1-score</th>\n",
       "      <th>support</th>\n",
       "    </tr>\n",
       "  </thead>\n",
       "  <tbody>\n",
       "    <tr>\n",
       "      <th>bug</th>\n",
       "      <td>0.847073</td>\n",
       "      <td>0.865222</td>\n",
       "      <td>0.856051</td>\n",
       "      <td>4014.0000</td>\n",
       "    </tr>\n",
       "    <tr>\n",
       "      <th>enhancement</th>\n",
       "      <td>0.849491</td>\n",
       "      <td>0.878226</td>\n",
       "      <td>0.863620</td>\n",
       "      <td>3991.0000</td>\n",
       "    </tr>\n",
       "    <tr>\n",
       "      <th>documentation</th>\n",
       "      <td>0.911935</td>\n",
       "      <td>0.855065</td>\n",
       "      <td>0.882585</td>\n",
       "      <td>4057.0000</td>\n",
       "    </tr>\n",
       "    <tr>\n",
       "      <th>question</th>\n",
       "      <td>0.828463</td>\n",
       "      <td>0.835196</td>\n",
       "      <td>0.831816</td>\n",
       "      <td>3938.0000</td>\n",
       "    </tr>\n",
       "    <tr>\n",
       "      <th>accuracy</th>\n",
       "      <td>0.858500</td>\n",
       "      <td>0.858500</td>\n",
       "      <td>0.858500</td>\n",
       "      <td>0.8585</td>\n",
       "    </tr>\n",
       "    <tr>\n",
       "      <th>macro avg</th>\n",
       "      <td>0.859241</td>\n",
       "      <td>0.858427</td>\n",
       "      <td>0.858518</td>\n",
       "      <td>16000.0000</td>\n",
       "    </tr>\n",
       "    <tr>\n",
       "      <th>weighted avg</th>\n",
       "      <td>0.859542</td>\n",
       "      <td>0.858500</td>\n",
       "      <td>0.858702</td>\n",
       "      <td>16000.0000</td>\n",
       "    </tr>\n",
       "  </tbody>\n",
       "</table>\n",
       "</div>\n",
       "      <button class=\"colab-df-convert\" onclick=\"convertToInteractive('df-a9877451-d327-4dbc-8bae-d023398fcbcf')\"\n",
       "              title=\"Convert this dataframe to an interactive table.\"\n",
       "              style=\"display:none;\">\n",
       "        \n",
       "  <svg xmlns=\"http://www.w3.org/2000/svg\" height=\"24px\"viewBox=\"0 0 24 24\"\n",
       "       width=\"24px\">\n",
       "    <path d=\"M0 0h24v24H0V0z\" fill=\"none\"/>\n",
       "    <path d=\"M18.56 5.44l.94 2.06.94-2.06 2.06-.94-2.06-.94-.94-2.06-.94 2.06-2.06.94zm-11 1L8.5 8.5l.94-2.06 2.06-.94-2.06-.94L8.5 2.5l-.94 2.06-2.06.94zm10 10l.94 2.06.94-2.06 2.06-.94-2.06-.94-.94-2.06-.94 2.06-2.06.94z\"/><path d=\"M17.41 7.96l-1.37-1.37c-.4-.4-.92-.59-1.43-.59-.52 0-1.04.2-1.43.59L10.3 9.45l-7.72 7.72c-.78.78-.78 2.05 0 2.83L4 21.41c.39.39.9.59 1.41.59.51 0 1.02-.2 1.41-.59l7.78-7.78 2.81-2.81c.8-.78.8-2.07 0-2.86zM5.41 20L4 18.59l7.72-7.72 1.47 1.35L5.41 20z\"/>\n",
       "  </svg>\n",
       "      </button>\n",
       "      \n",
       "  <style>\n",
       "    .colab-df-container {\n",
       "      display:flex;\n",
       "      flex-wrap:wrap;\n",
       "      gap: 12px;\n",
       "    }\n",
       "\n",
       "    .colab-df-convert {\n",
       "      background-color: #E8F0FE;\n",
       "      border: none;\n",
       "      border-radius: 50%;\n",
       "      cursor: pointer;\n",
       "      display: none;\n",
       "      fill: #1967D2;\n",
       "      height: 32px;\n",
       "      padding: 0 0 0 0;\n",
       "      width: 32px;\n",
       "    }\n",
       "\n",
       "    .colab-df-convert:hover {\n",
       "      background-color: #E2EBFA;\n",
       "      box-shadow: 0px 1px 2px rgba(60, 64, 67, 0.3), 0px 1px 3px 1px rgba(60, 64, 67, 0.15);\n",
       "      fill: #174EA6;\n",
       "    }\n",
       "\n",
       "    [theme=dark] .colab-df-convert {\n",
       "      background-color: #3B4455;\n",
       "      fill: #D2E3FC;\n",
       "    }\n",
       "\n",
       "    [theme=dark] .colab-df-convert:hover {\n",
       "      background-color: #434B5C;\n",
       "      box-shadow: 0px 1px 3px 1px rgba(0, 0, 0, 0.15);\n",
       "      filter: drop-shadow(0px 1px 2px rgba(0, 0, 0, 0.3));\n",
       "      fill: #FFFFFF;\n",
       "    }\n",
       "  </style>\n",
       "\n",
       "      <script>\n",
       "        const buttonEl =\n",
       "          document.querySelector('#df-a9877451-d327-4dbc-8bae-d023398fcbcf button.colab-df-convert');\n",
       "        buttonEl.style.display =\n",
       "          google.colab.kernel.accessAllowed ? 'block' : 'none';\n",
       "\n",
       "        async function convertToInteractive(key) {\n",
       "          const element = document.querySelector('#df-a9877451-d327-4dbc-8bae-d023398fcbcf');\n",
       "          const dataTable =\n",
       "            await google.colab.kernel.invokeFunction('convertToInteractive',\n",
       "                                                     [key], {});\n",
       "          if (!dataTable) return;\n",
       "\n",
       "          const docLinkHtml = 'Like what you see? Visit the ' +\n",
       "            '<a target=\"_blank\" href=https://colab.research.google.com/notebooks/data_table.ipynb>data table notebook</a>'\n",
       "            + ' to learn more about interactive tables.';\n",
       "          element.innerHTML = '';\n",
       "          dataTable['output_type'] = 'display_data';\n",
       "          await google.colab.output.renderOutput(dataTable, element);\n",
       "          const docLink = document.createElement('div');\n",
       "          docLink.innerHTML = docLinkHtml;\n",
       "          element.appendChild(docLink);\n",
       "        }\n",
       "      </script>\n",
       "    </div>\n",
       "  </div>\n",
       "  "
      ]
     },
     "metadata": {},
     "execution_count": 16
    }
   ]
  },
  {
   "cell_type": "code",
   "source": [
    "# DeBERTa v3\n",
    "classification_reports_df[3]"
   ],
   "metadata": {
    "colab": {
     "base_uri": "https://localhost:8080/",
     "height": 269
    },
    "id": "9fsRdq8Z8UXi",
    "outputId": "2b062411-02e5-4692-ce4b-bde485b21d31",
    "pycharm": {
     "name": "#%%\n"
    }
   },
   "execution_count": 17,
   "outputs": [
    {
     "output_type": "execute_result",
     "data": {
      "text/plain": [
       "               precision    recall  f1-score      support\n",
       "bug             0.858037  0.853762  0.855894   4014.00000\n",
       "enhancement     0.860825  0.878727  0.869684   3991.00000\n",
       "documentation   0.896196  0.876756  0.886369   4057.00000\n",
       "question        0.825889  0.831133  0.828503   3938.00000\n",
       "accuracy        0.860250  0.860250  0.860250      0.86025\n",
       "macro avg       0.860237  0.860094  0.860112  16000.00000\n",
       "weighted avg    0.860496  0.860250  0.860319  16000.00000"
      ],
      "text/html": [
       "\n",
       "  <div id=\"df-ab7215b6-f66a-42ec-8274-a3a8be235ee6\">\n",
       "    <div class=\"colab-df-container\">\n",
       "      <div>\n",
       "<style scoped>\n",
       "    .dataframe tbody tr th:only-of-type {\n",
       "        vertical-align: middle;\n",
       "    }\n",
       "\n",
       "    .dataframe tbody tr th {\n",
       "        vertical-align: top;\n",
       "    }\n",
       "\n",
       "    .dataframe thead th {\n",
       "        text-align: right;\n",
       "    }\n",
       "</style>\n",
       "<table border=\"1\" class=\"dataframe\">\n",
       "  <thead>\n",
       "    <tr style=\"text-align: right;\">\n",
       "      <th></th>\n",
       "      <th>precision</th>\n",
       "      <th>recall</th>\n",
       "      <th>f1-score</th>\n",
       "      <th>support</th>\n",
       "    </tr>\n",
       "  </thead>\n",
       "  <tbody>\n",
       "    <tr>\n",
       "      <th>bug</th>\n",
       "      <td>0.858037</td>\n",
       "      <td>0.853762</td>\n",
       "      <td>0.855894</td>\n",
       "      <td>4014.00000</td>\n",
       "    </tr>\n",
       "    <tr>\n",
       "      <th>enhancement</th>\n",
       "      <td>0.860825</td>\n",
       "      <td>0.878727</td>\n",
       "      <td>0.869684</td>\n",
       "      <td>3991.00000</td>\n",
       "    </tr>\n",
       "    <tr>\n",
       "      <th>documentation</th>\n",
       "      <td>0.896196</td>\n",
       "      <td>0.876756</td>\n",
       "      <td>0.886369</td>\n",
       "      <td>4057.00000</td>\n",
       "    </tr>\n",
       "    <tr>\n",
       "      <th>question</th>\n",
       "      <td>0.825889</td>\n",
       "      <td>0.831133</td>\n",
       "      <td>0.828503</td>\n",
       "      <td>3938.00000</td>\n",
       "    </tr>\n",
       "    <tr>\n",
       "      <th>accuracy</th>\n",
       "      <td>0.860250</td>\n",
       "      <td>0.860250</td>\n",
       "      <td>0.860250</td>\n",
       "      <td>0.86025</td>\n",
       "    </tr>\n",
       "    <tr>\n",
       "      <th>macro avg</th>\n",
       "      <td>0.860237</td>\n",
       "      <td>0.860094</td>\n",
       "      <td>0.860112</td>\n",
       "      <td>16000.00000</td>\n",
       "    </tr>\n",
       "    <tr>\n",
       "      <th>weighted avg</th>\n",
       "      <td>0.860496</td>\n",
       "      <td>0.860250</td>\n",
       "      <td>0.860319</td>\n",
       "      <td>16000.00000</td>\n",
       "    </tr>\n",
       "  </tbody>\n",
       "</table>\n",
       "</div>\n",
       "      <button class=\"colab-df-convert\" onclick=\"convertToInteractive('df-ab7215b6-f66a-42ec-8274-a3a8be235ee6')\"\n",
       "              title=\"Convert this dataframe to an interactive table.\"\n",
       "              style=\"display:none;\">\n",
       "        \n",
       "  <svg xmlns=\"http://www.w3.org/2000/svg\" height=\"24px\"viewBox=\"0 0 24 24\"\n",
       "       width=\"24px\">\n",
       "    <path d=\"M0 0h24v24H0V0z\" fill=\"none\"/>\n",
       "    <path d=\"M18.56 5.44l.94 2.06.94-2.06 2.06-.94-2.06-.94-.94-2.06-.94 2.06-2.06.94zm-11 1L8.5 8.5l.94-2.06 2.06-.94-2.06-.94L8.5 2.5l-.94 2.06-2.06.94zm10 10l.94 2.06.94-2.06 2.06-.94-2.06-.94-.94-2.06-.94 2.06-2.06.94z\"/><path d=\"M17.41 7.96l-1.37-1.37c-.4-.4-.92-.59-1.43-.59-.52 0-1.04.2-1.43.59L10.3 9.45l-7.72 7.72c-.78.78-.78 2.05 0 2.83L4 21.41c.39.39.9.59 1.41.59.51 0 1.02-.2 1.41-.59l7.78-7.78 2.81-2.81c.8-.78.8-2.07 0-2.86zM5.41 20L4 18.59l7.72-7.72 1.47 1.35L5.41 20z\"/>\n",
       "  </svg>\n",
       "      </button>\n",
       "      \n",
       "  <style>\n",
       "    .colab-df-container {\n",
       "      display:flex;\n",
       "      flex-wrap:wrap;\n",
       "      gap: 12px;\n",
       "    }\n",
       "\n",
       "    .colab-df-convert {\n",
       "      background-color: #E8F0FE;\n",
       "      border: none;\n",
       "      border-radius: 50%;\n",
       "      cursor: pointer;\n",
       "      display: none;\n",
       "      fill: #1967D2;\n",
       "      height: 32px;\n",
       "      padding: 0 0 0 0;\n",
       "      width: 32px;\n",
       "    }\n",
       "\n",
       "    .colab-df-convert:hover {\n",
       "      background-color: #E2EBFA;\n",
       "      box-shadow: 0px 1px 2px rgba(60, 64, 67, 0.3), 0px 1px 3px 1px rgba(60, 64, 67, 0.15);\n",
       "      fill: #174EA6;\n",
       "    }\n",
       "\n",
       "    [theme=dark] .colab-df-convert {\n",
       "      background-color: #3B4455;\n",
       "      fill: #D2E3FC;\n",
       "    }\n",
       "\n",
       "    [theme=dark] .colab-df-convert:hover {\n",
       "      background-color: #434B5C;\n",
       "      box-shadow: 0px 1px 3px 1px rgba(0, 0, 0, 0.15);\n",
       "      filter: drop-shadow(0px 1px 2px rgba(0, 0, 0, 0.3));\n",
       "      fill: #FFFFFF;\n",
       "    }\n",
       "  </style>\n",
       "\n",
       "      <script>\n",
       "        const buttonEl =\n",
       "          document.querySelector('#df-ab7215b6-f66a-42ec-8274-a3a8be235ee6 button.colab-df-convert');\n",
       "        buttonEl.style.display =\n",
       "          google.colab.kernel.accessAllowed ? 'block' : 'none';\n",
       "\n",
       "        async function convertToInteractive(key) {\n",
       "          const element = document.querySelector('#df-ab7215b6-f66a-42ec-8274-a3a8be235ee6');\n",
       "          const dataTable =\n",
       "            await google.colab.kernel.invokeFunction('convertToInteractive',\n",
       "                                                     [key], {});\n",
       "          if (!dataTable) return;\n",
       "\n",
       "          const docLinkHtml = 'Like what you see? Visit the ' +\n",
       "            '<a target=\"_blank\" href=https://colab.research.google.com/notebooks/data_table.ipynb>data table notebook</a>'\n",
       "            + ' to learn more about interactive tables.';\n",
       "          element.innerHTML = '';\n",
       "          dataTable['output_type'] = 'display_data';\n",
       "          await google.colab.output.renderOutput(dataTable, element);\n",
       "          const docLink = document.createElement('div');\n",
       "          docLink.innerHTML = docLinkHtml;\n",
       "          element.appendChild(docLink);\n",
       "        }\n",
       "      </script>\n",
       "    </div>\n",
       "  </div>\n",
       "  "
      ]
     },
     "metadata": {},
     "execution_count": 17
    }
   ]
  },
  {
   "cell_type": "code",
   "source": [
    "acc_list = [classification_reports[i][\"accuracy\"] for i in range(0, len(models_name))]"
   ],
   "metadata": {
    "id": "hkQG_Q2FGc3S",
    "pycharm": {
     "name": "#%%\n"
    }
   },
   "execution_count": 18,
   "outputs": []
  },
  {
   "cell_type": "code",
   "source": [
    "f1_bug = [f1_classes[i][\"f1\"][0] for i in range(0, len(models_name))]\n",
    "f1_enh = [f1_classes[i][\"f1\"][1] for i in range(0, len(models_name))]\n",
    "f1_doc = [f1_classes[i][\"f1\"][2] for i in range(0, len(models_name))]\n",
    "f1_que = [f1_classes[i][\"f1\"][3] for i in range(0, len(models_name))]\n",
    "f1_avg = [f1_micro[i][\"f1\"] for i in range(0, len(models_name))]"
   ],
   "metadata": {
    "id": "LN94xzpqHixf",
    "pycharm": {
     "name": "#%%\n"
    }
   },
   "execution_count": 19,
   "outputs": []
  },
  {
   "cell_type": "code",
   "source": [
    "metrics_data = pd.DataFrame(data={\"model\" : models_name,\n",
    "                                  \"accuracy\": acc_list,\n",
    "                                  \"f1_avg\" : f1_avg,\n",
    "                                  \"f1_bug\" : f1_bug,\n",
    "                                  \"f1_enh\" : f1_enh,\n",
    "                                  \"f1_doc\" : f1_doc,\n",
    "                                  \"f1_que\" : f1_que,\n",
    "                                  \"extra_processed\": False},\n",
    "                            index=np.arange(0, 4)\n",
    "                            )"
   ],
   "metadata": {
    "id": "ffQD6g4KGoDy",
    "pycharm": {
     "name": "#%%\n"
    }
   },
   "execution_count": 20,
   "outputs": []
  },
  {
   "cell_type": "code",
   "source": [
    "metrics_data"
   ],
   "metadata": {
    "colab": {
     "base_uri": "https://localhost:8080/",
     "height": 175
    },
    "id": "ani5CvHpIM3t",
    "outputId": "1cceefac-d5bc-487b-9f71-3586f20f9ed2",
    "pycharm": {
     "name": "#%%\n"
    }
   },
   "execution_count": 21,
   "outputs": [
    {
     "output_type": "execute_result",
     "data": {
      "text/plain": [
       "        model  accuracy    f1_avg    f1_bug    f1_enh    f1_doc    f1_que  \\\n",
       "0        BERT  0.847250  0.847250  0.846375  0.853752  0.873529  0.813644   \n",
       "1  distilBERT  0.853938  0.853938  0.851733  0.858494  0.878399  0.827072   \n",
       "2     RoBERTa  0.858500  0.858500  0.856051  0.863620  0.882585  0.831816   \n",
       "3  DeBERTa v3  0.860250  0.860250  0.855894  0.869684  0.886369  0.828503   \n",
       "\n",
       "   extra_processed  \n",
       "0            False  \n",
       "1            False  \n",
       "2            False  \n",
       "3            False  "
      ],
      "text/html": [
       "\n",
       "  <div id=\"df-0027497b-1191-45c9-83e7-e0e0fe1e106d\">\n",
       "    <div class=\"colab-df-container\">\n",
       "      <div>\n",
       "<style scoped>\n",
       "    .dataframe tbody tr th:only-of-type {\n",
       "        vertical-align: middle;\n",
       "    }\n",
       "\n",
       "    .dataframe tbody tr th {\n",
       "        vertical-align: top;\n",
       "    }\n",
       "\n",
       "    .dataframe thead th {\n",
       "        text-align: right;\n",
       "    }\n",
       "</style>\n",
       "<table border=\"1\" class=\"dataframe\">\n",
       "  <thead>\n",
       "    <tr style=\"text-align: right;\">\n",
       "      <th></th>\n",
       "      <th>model</th>\n",
       "      <th>accuracy</th>\n",
       "      <th>f1_avg</th>\n",
       "      <th>f1_bug</th>\n",
       "      <th>f1_enh</th>\n",
       "      <th>f1_doc</th>\n",
       "      <th>f1_que</th>\n",
       "      <th>extra_processed</th>\n",
       "    </tr>\n",
       "  </thead>\n",
       "  <tbody>\n",
       "    <tr>\n",
       "      <th>0</th>\n",
       "      <td>BERT</td>\n",
       "      <td>0.847250</td>\n",
       "      <td>0.847250</td>\n",
       "      <td>0.846375</td>\n",
       "      <td>0.853752</td>\n",
       "      <td>0.873529</td>\n",
       "      <td>0.813644</td>\n",
       "      <td>False</td>\n",
       "    </tr>\n",
       "    <tr>\n",
       "      <th>1</th>\n",
       "      <td>distilBERT</td>\n",
       "      <td>0.853938</td>\n",
       "      <td>0.853938</td>\n",
       "      <td>0.851733</td>\n",
       "      <td>0.858494</td>\n",
       "      <td>0.878399</td>\n",
       "      <td>0.827072</td>\n",
       "      <td>False</td>\n",
       "    </tr>\n",
       "    <tr>\n",
       "      <th>2</th>\n",
       "      <td>RoBERTa</td>\n",
       "      <td>0.858500</td>\n",
       "      <td>0.858500</td>\n",
       "      <td>0.856051</td>\n",
       "      <td>0.863620</td>\n",
       "      <td>0.882585</td>\n",
       "      <td>0.831816</td>\n",
       "      <td>False</td>\n",
       "    </tr>\n",
       "    <tr>\n",
       "      <th>3</th>\n",
       "      <td>DeBERTa v3</td>\n",
       "      <td>0.860250</td>\n",
       "      <td>0.860250</td>\n",
       "      <td>0.855894</td>\n",
       "      <td>0.869684</td>\n",
       "      <td>0.886369</td>\n",
       "      <td>0.828503</td>\n",
       "      <td>False</td>\n",
       "    </tr>\n",
       "  </tbody>\n",
       "</table>\n",
       "</div>\n",
       "      <button class=\"colab-df-convert\" onclick=\"convertToInteractive('df-0027497b-1191-45c9-83e7-e0e0fe1e106d')\"\n",
       "              title=\"Convert this dataframe to an interactive table.\"\n",
       "              style=\"display:none;\">\n",
       "        \n",
       "  <svg xmlns=\"http://www.w3.org/2000/svg\" height=\"24px\"viewBox=\"0 0 24 24\"\n",
       "       width=\"24px\">\n",
       "    <path d=\"M0 0h24v24H0V0z\" fill=\"none\"/>\n",
       "    <path d=\"M18.56 5.44l.94 2.06.94-2.06 2.06-.94-2.06-.94-.94-2.06-.94 2.06-2.06.94zm-11 1L8.5 8.5l.94-2.06 2.06-.94-2.06-.94L8.5 2.5l-.94 2.06-2.06.94zm10 10l.94 2.06.94-2.06 2.06-.94-2.06-.94-.94-2.06-.94 2.06-2.06.94z\"/><path d=\"M17.41 7.96l-1.37-1.37c-.4-.4-.92-.59-1.43-.59-.52 0-1.04.2-1.43.59L10.3 9.45l-7.72 7.72c-.78.78-.78 2.05 0 2.83L4 21.41c.39.39.9.59 1.41.59.51 0 1.02-.2 1.41-.59l7.78-7.78 2.81-2.81c.8-.78.8-2.07 0-2.86zM5.41 20L4 18.59l7.72-7.72 1.47 1.35L5.41 20z\"/>\n",
       "  </svg>\n",
       "      </button>\n",
       "      \n",
       "  <style>\n",
       "    .colab-df-container {\n",
       "      display:flex;\n",
       "      flex-wrap:wrap;\n",
       "      gap: 12px;\n",
       "    }\n",
       "\n",
       "    .colab-df-convert {\n",
       "      background-color: #E8F0FE;\n",
       "      border: none;\n",
       "      border-radius: 50%;\n",
       "      cursor: pointer;\n",
       "      display: none;\n",
       "      fill: #1967D2;\n",
       "      height: 32px;\n",
       "      padding: 0 0 0 0;\n",
       "      width: 32px;\n",
       "    }\n",
       "\n",
       "    .colab-df-convert:hover {\n",
       "      background-color: #E2EBFA;\n",
       "      box-shadow: 0px 1px 2px rgba(60, 64, 67, 0.3), 0px 1px 3px 1px rgba(60, 64, 67, 0.15);\n",
       "      fill: #174EA6;\n",
       "    }\n",
       "\n",
       "    [theme=dark] .colab-df-convert {\n",
       "      background-color: #3B4455;\n",
       "      fill: #D2E3FC;\n",
       "    }\n",
       "\n",
       "    [theme=dark] .colab-df-convert:hover {\n",
       "      background-color: #434B5C;\n",
       "      box-shadow: 0px 1px 3px 1px rgba(0, 0, 0, 0.15);\n",
       "      filter: drop-shadow(0px 1px 2px rgba(0, 0, 0, 0.3));\n",
       "      fill: #FFFFFF;\n",
       "    }\n",
       "  </style>\n",
       "\n",
       "      <script>\n",
       "        const buttonEl =\n",
       "          document.querySelector('#df-0027497b-1191-45c9-83e7-e0e0fe1e106d button.colab-df-convert');\n",
       "        buttonEl.style.display =\n",
       "          google.colab.kernel.accessAllowed ? 'block' : 'none';\n",
       "\n",
       "        async function convertToInteractive(key) {\n",
       "          const element = document.querySelector('#df-0027497b-1191-45c9-83e7-e0e0fe1e106d');\n",
       "          const dataTable =\n",
       "            await google.colab.kernel.invokeFunction('convertToInteractive',\n",
       "                                                     [key], {});\n",
       "          if (!dataTable) return;\n",
       "\n",
       "          const docLinkHtml = 'Like what you see? Visit the ' +\n",
       "            '<a target=\"_blank\" href=https://colab.research.google.com/notebooks/data_table.ipynb>data table notebook</a>'\n",
       "            + ' to learn more about interactive tables.';\n",
       "          element.innerHTML = '';\n",
       "          dataTable['output_type'] = 'display_data';\n",
       "          await google.colab.output.renderOutput(dataTable, element);\n",
       "          const docLink = document.createElement('div');\n",
       "          docLink.innerHTML = docLinkHtml;\n",
       "          element.appendChild(docLink);\n",
       "        }\n",
       "      </script>\n",
       "    </div>\n",
       "  </div>\n",
       "  "
      ]
     },
     "metadata": {},
     "execution_count": 21
    }
   ]
  },
  {
   "cell_type": "code",
   "source": [
    "# Сохранение датасета\n",
    "metrics_data.to_csv(\"drive/MyDrive/datasets/transformers.csv\", sep=\",\", index=False)"
   ],
   "metadata": {
    "id": "Y6pxIi0qIa_i",
    "pycharm": {
     "name": "#%%\n"
    }
   },
   "execution_count": 22,
   "outputs": []
  },
  {
   "cell_type": "code",
   "source": [
    "metrics_to_show = metrics_data.copy()\n",
    "metrics_to_show = metrics_to_show.rename(columns={\"f1_bug\" : \"bug\", \"f1_enh\": \"enhancement\", \"f1_doc\" : \"documentation\", \"f1_que\" : \"question\"})\n",
    "metrics_to_show"
   ],
   "metadata": {
    "colab": {
     "base_uri": "https://localhost:8080/",
     "height": 175
    },
    "id": "Q_dadRFhL3Lj",
    "outputId": "b53ac222-558d-4424-ead4-86c871790afe",
    "pycharm": {
     "name": "#%%\n"
    }
   },
   "execution_count": 23,
   "outputs": [
    {
     "output_type": "execute_result",
     "data": {
      "text/plain": [
       "        model  accuracy    f1_avg       bug  enhancement  documentation  \\\n",
       "0        BERT  0.847250  0.847250  0.846375     0.853752       0.873529   \n",
       "1  distilBERT  0.853938  0.853938  0.851733     0.858494       0.878399   \n",
       "2     RoBERTa  0.858500  0.858500  0.856051     0.863620       0.882585   \n",
       "3  DeBERTa v3  0.860250  0.860250  0.855894     0.869684       0.886369   \n",
       "\n",
       "   question  extra_processed  \n",
       "0  0.813644            False  \n",
       "1  0.827072            False  \n",
       "2  0.831816            False  \n",
       "3  0.828503            False  "
      ],
      "text/html": [
       "\n",
       "  <div id=\"df-5cd8e45a-f7a6-42b3-93ea-11ef1c32000e\">\n",
       "    <div class=\"colab-df-container\">\n",
       "      <div>\n",
       "<style scoped>\n",
       "    .dataframe tbody tr th:only-of-type {\n",
       "        vertical-align: middle;\n",
       "    }\n",
       "\n",
       "    .dataframe tbody tr th {\n",
       "        vertical-align: top;\n",
       "    }\n",
       "\n",
       "    .dataframe thead th {\n",
       "        text-align: right;\n",
       "    }\n",
       "</style>\n",
       "<table border=\"1\" class=\"dataframe\">\n",
       "  <thead>\n",
       "    <tr style=\"text-align: right;\">\n",
       "      <th></th>\n",
       "      <th>model</th>\n",
       "      <th>accuracy</th>\n",
       "      <th>f1_avg</th>\n",
       "      <th>bug</th>\n",
       "      <th>enhancement</th>\n",
       "      <th>documentation</th>\n",
       "      <th>question</th>\n",
       "      <th>extra_processed</th>\n",
       "    </tr>\n",
       "  </thead>\n",
       "  <tbody>\n",
       "    <tr>\n",
       "      <th>0</th>\n",
       "      <td>BERT</td>\n",
       "      <td>0.847250</td>\n",
       "      <td>0.847250</td>\n",
       "      <td>0.846375</td>\n",
       "      <td>0.853752</td>\n",
       "      <td>0.873529</td>\n",
       "      <td>0.813644</td>\n",
       "      <td>False</td>\n",
       "    </tr>\n",
       "    <tr>\n",
       "      <th>1</th>\n",
       "      <td>distilBERT</td>\n",
       "      <td>0.853938</td>\n",
       "      <td>0.853938</td>\n",
       "      <td>0.851733</td>\n",
       "      <td>0.858494</td>\n",
       "      <td>0.878399</td>\n",
       "      <td>0.827072</td>\n",
       "      <td>False</td>\n",
       "    </tr>\n",
       "    <tr>\n",
       "      <th>2</th>\n",
       "      <td>RoBERTa</td>\n",
       "      <td>0.858500</td>\n",
       "      <td>0.858500</td>\n",
       "      <td>0.856051</td>\n",
       "      <td>0.863620</td>\n",
       "      <td>0.882585</td>\n",
       "      <td>0.831816</td>\n",
       "      <td>False</td>\n",
       "    </tr>\n",
       "    <tr>\n",
       "      <th>3</th>\n",
       "      <td>DeBERTa v3</td>\n",
       "      <td>0.860250</td>\n",
       "      <td>0.860250</td>\n",
       "      <td>0.855894</td>\n",
       "      <td>0.869684</td>\n",
       "      <td>0.886369</td>\n",
       "      <td>0.828503</td>\n",
       "      <td>False</td>\n",
       "    </tr>\n",
       "  </tbody>\n",
       "</table>\n",
       "</div>\n",
       "      <button class=\"colab-df-convert\" onclick=\"convertToInteractive('df-5cd8e45a-f7a6-42b3-93ea-11ef1c32000e')\"\n",
       "              title=\"Convert this dataframe to an interactive table.\"\n",
       "              style=\"display:none;\">\n",
       "        \n",
       "  <svg xmlns=\"http://www.w3.org/2000/svg\" height=\"24px\"viewBox=\"0 0 24 24\"\n",
       "       width=\"24px\">\n",
       "    <path d=\"M0 0h24v24H0V0z\" fill=\"none\"/>\n",
       "    <path d=\"M18.56 5.44l.94 2.06.94-2.06 2.06-.94-2.06-.94-.94-2.06-.94 2.06-2.06.94zm-11 1L8.5 8.5l.94-2.06 2.06-.94-2.06-.94L8.5 2.5l-.94 2.06-2.06.94zm10 10l.94 2.06.94-2.06 2.06-.94-2.06-.94-.94-2.06-.94 2.06-2.06.94z\"/><path d=\"M17.41 7.96l-1.37-1.37c-.4-.4-.92-.59-1.43-.59-.52 0-1.04.2-1.43.59L10.3 9.45l-7.72 7.72c-.78.78-.78 2.05 0 2.83L4 21.41c.39.39.9.59 1.41.59.51 0 1.02-.2 1.41-.59l7.78-7.78 2.81-2.81c.8-.78.8-2.07 0-2.86zM5.41 20L4 18.59l7.72-7.72 1.47 1.35L5.41 20z\"/>\n",
       "  </svg>\n",
       "      </button>\n",
       "      \n",
       "  <style>\n",
       "    .colab-df-container {\n",
       "      display:flex;\n",
       "      flex-wrap:wrap;\n",
       "      gap: 12px;\n",
       "    }\n",
       "\n",
       "    .colab-df-convert {\n",
       "      background-color: #E8F0FE;\n",
       "      border: none;\n",
       "      border-radius: 50%;\n",
       "      cursor: pointer;\n",
       "      display: none;\n",
       "      fill: #1967D2;\n",
       "      height: 32px;\n",
       "      padding: 0 0 0 0;\n",
       "      width: 32px;\n",
       "    }\n",
       "\n",
       "    .colab-df-convert:hover {\n",
       "      background-color: #E2EBFA;\n",
       "      box-shadow: 0px 1px 2px rgba(60, 64, 67, 0.3), 0px 1px 3px 1px rgba(60, 64, 67, 0.15);\n",
       "      fill: #174EA6;\n",
       "    }\n",
       "\n",
       "    [theme=dark] .colab-df-convert {\n",
       "      background-color: #3B4455;\n",
       "      fill: #D2E3FC;\n",
       "    }\n",
       "\n",
       "    [theme=dark] .colab-df-convert:hover {\n",
       "      background-color: #434B5C;\n",
       "      box-shadow: 0px 1px 3px 1px rgba(0, 0, 0, 0.15);\n",
       "      filter: drop-shadow(0px 1px 2px rgba(0, 0, 0, 0.3));\n",
       "      fill: #FFFFFF;\n",
       "    }\n",
       "  </style>\n",
       "\n",
       "      <script>\n",
       "        const buttonEl =\n",
       "          document.querySelector('#df-5cd8e45a-f7a6-42b3-93ea-11ef1c32000e button.colab-df-convert');\n",
       "        buttonEl.style.display =\n",
       "          google.colab.kernel.accessAllowed ? 'block' : 'none';\n",
       "\n",
       "        async function convertToInteractive(key) {\n",
       "          const element = document.querySelector('#df-5cd8e45a-f7a6-42b3-93ea-11ef1c32000e');\n",
       "          const dataTable =\n",
       "            await google.colab.kernel.invokeFunction('convertToInteractive',\n",
       "                                                     [key], {});\n",
       "          if (!dataTable) return;\n",
       "\n",
       "          const docLinkHtml = 'Like what you see? Visit the ' +\n",
       "            '<a target=\"_blank\" href=https://colab.research.google.com/notebooks/data_table.ipynb>data table notebook</a>'\n",
       "            + ' to learn more about interactive tables.';\n",
       "          element.innerHTML = '';\n",
       "          dataTable['output_type'] = 'display_data';\n",
       "          await google.colab.output.renderOutput(dataTable, element);\n",
       "          const docLink = document.createElement('div');\n",
       "          docLink.innerHTML = docLinkHtml;\n",
       "          element.appendChild(docLink);\n",
       "        }\n",
       "      </script>\n",
       "    </div>\n",
       "  </div>\n",
       "  "
      ]
     },
     "metadata": {},
     "execution_count": 23
    }
   ]
  },
  {
   "cell_type": "code",
   "source": [
    "# F-мера по классам\n",
    "r = radar_plot(metrics_to_show[[\"bug\", \"enhancement\", \"documentation\", \"question\"]], model_names=metrics_to_show.model)\n",
    "plt.show()"
   ],
   "metadata": {
    "colab": {
     "base_uri": "https://localhost:8080/",
     "height": 531
    },
    "id": "yLJFuiHgI3Ht",
    "outputId": "b1a11882-01c2-4b09-9d5f-e56b6d5e6443",
    "pycharm": {
     "name": "#%%\n"
    }
   },
   "execution_count": 24,
   "outputs": [
    {
     "output_type": "display_data",
     "data": {
      "text/plain": [
       "<Figure size 640x480 with 5 Axes>"
      ],
      "image/png": "[encoded data removed]"
     },
     "metadata": {}
    }
   ]
  },
  {
   "cell_type": "code",
   "source": [
    "_, ax = plt.subplots()\n",
    "bar = sns.barplot(metrics_data, x=\"f1_avg\", y=\"model\")\n",
    "ax.set_xlim(0, 1)\n",
    "ax.set_xlabel(\"Средняя F1-мера\")\n",
    "ax.set_ylabel(\"\")\n",
    "ax.bar_label(ax.containers[0], fmt='%.2f')\n",
    "plt.show()"
   ],
   "metadata": {
    "colab": {
     "base_uri": "https://localhost:8080/",
     "height": 458
    },
    "id": "2xJCi82tJIRH",
    "outputId": "ce852490-e0ac-4831-f578-46a5e73840b1",
    "pycharm": {
     "name": "#%%\n"
    }
   },
   "execution_count": 25,
   "outputs": [
    {
     "output_type": "display_data",
     "data": {
      "text/plain": [
       "<Figure size 640x480 with 1 Axes>"
      ],
      "image/png": "[encoded data removed]"
     },
     "metadata": {}
    }
   ]
  },
  {
   "cell_type": "code",
   "source": [
    "_, ax = plt.subplots()\n",
    "bar = sns.barplot(metrics_data, x=\"f1_avg\", y=\"model\")\n",
    "ax.set_xlim(0.8, 0.9)\n",
    "ax.set_xlabel(\"Средняя F1-мера\")\n",
    "ax.set_ylabel(\"\")\n",
    "ax.bar_label(ax.containers[0], fmt='%.2f')\n",
    "plt.show()"
   ],
   "metadata": {
    "colab": {
     "base_uri": "https://localhost:8080/",
     "height": 458
    },
    "id": "02SPiAOFO_wM",
    "outputId": "339bed00-3480-437a-cafc-3bfc03d67848",
    "pycharm": {
     "name": "#%%\n"
    }
   },
   "execution_count": 26,
   "outputs": [
    {
     "output_type": "display_data",
     "data": {
      "text/plain": [
       "<Figure size 640x480 with 1 Axes>"
      ],
      "image/png": "[encoded data removed]"
     },
     "metadata": {}
    }
   ]
  },
  {
   "cell_type": "code",
   "source": [
    "metrics_melt = metrics_to_show.copy()\n",
    "metrics_melt = metrics_melt.melt(id_vars=[\"model\", \"extra_processed\"],\n",
    "                                 value_vars=[\"bug\", \"enhancement\", \"documentation\", \"question\"],\n",
    "                                 var_name=\"label\")\n",
    "metrics_melt"
   ],
   "metadata": {
    "colab": {
     "base_uri": "https://localhost:8080/",
     "height": 551
    },
    "id": "UjodXae5PAJd",
    "outputId": "86886016-2edd-4c40-81cd-295fde06e494",
    "pycharm": {
     "name": "#%%\n"
    }
   },
   "execution_count": 27,
   "outputs": [
    {
     "output_type": "execute_result",
     "data": {
      "text/plain": [
       "         model  extra_processed          label     value\n",
       "0         BERT            False            bug  0.846375\n",
       "1   distilBERT            False            bug  0.851733\n",
       "2      RoBERTa            False            bug  0.856051\n",
       "3   DeBERTa v3            False            bug  0.855894\n",
       "4         BERT            False    enhancement  0.853752\n",
       "5   distilBERT            False    enhancement  0.858494\n",
       "6      RoBERTa            False    enhancement  0.863620\n",
       "7   DeBERTa v3            False    enhancement  0.869684\n",
       "8         BERT            False  documentation  0.873529\n",
       "9   distilBERT            False  documentation  0.878399\n",
       "10     RoBERTa            False  documentation  0.882585\n",
       "11  DeBERTa v3            False  documentation  0.886369\n",
       "12        BERT            False       question  0.813644\n",
       "13  distilBERT            False       question  0.827072\n",
       "14     RoBERTa            False       question  0.831816\n",
       "15  DeBERTa v3            False       question  0.828503"
      ],
      "text/html": [
       "\n",
       "  <div id=\"df-8640c95d-3ffa-4564-a01a-8970151c1159\">\n",
       "    <div class=\"colab-df-container\">\n",
       "      <div>\n",
       "<style scoped>\n",
       "    .dataframe tbody tr th:only-of-type {\n",
       "        vertical-align: middle;\n",
       "    }\n",
       "\n",
       "    .dataframe tbody tr th {\n",
       "        vertical-align: top;\n",
       "    }\n",
       "\n",
       "    .dataframe thead th {\n",
       "        text-align: right;\n",
       "    }\n",
       "</style>\n",
       "<table border=\"1\" class=\"dataframe\">\n",
       "  <thead>\n",
       "    <tr style=\"text-align: right;\">\n",
       "      <th></th>\n",
       "      <th>model</th>\n",
       "      <th>extra_processed</th>\n",
       "      <th>label</th>\n",
       "      <th>value</th>\n",
       "    </tr>\n",
       "  </thead>\n",
       "  <tbody>\n",
       "    <tr>\n",
       "      <th>0</th>\n",
       "      <td>BERT</td>\n",
       "      <td>False</td>\n",
       "      <td>bug</td>\n",
       "      <td>0.846375</td>\n",
       "    </tr>\n",
       "    <tr>\n",
       "      <th>1</th>\n",
       "      <td>distilBERT</td>\n",
       "      <td>False</td>\n",
       "      <td>bug</td>\n",
       "      <td>0.851733</td>\n",
       "    </tr>\n",
       "    <tr>\n",
       "      <th>2</th>\n",
       "      <td>RoBERTa</td>\n",
       "      <td>False</td>\n",
       "      <td>bug</td>\n",
       "      <td>0.856051</td>\n",
       "    </tr>\n",
       "    <tr>\n",
       "      <th>3</th>\n",
       "      <td>DeBERTa v3</td>\n",
       "      <td>False</td>\n",
       "      <td>bug</td>\n",
       "      <td>0.855894</td>\n",
       "    </tr>\n",
       "    <tr>\n",
       "      <th>4</th>\n",
       "      <td>BERT</td>\n",
       "      <td>False</td>\n",
       "      <td>enhancement</td>\n",
       "      <td>0.853752</td>\n",
       "    </tr>\n",
       "    <tr>\n",
       "      <th>5</th>\n",
       "      <td>distilBERT</td>\n",
       "      <td>False</td>\n",
       "      <td>enhancement</td>\n",
       "      <td>0.858494</td>\n",
       "    </tr>\n",
       "    <tr>\n",
       "      <th>6</th>\n",
       "      <td>RoBERTa</td>\n",
       "      <td>False</td>\n",
       "      <td>enhancement</td>\n",
       "      <td>0.863620</td>\n",
       "    </tr>\n",
       "    <tr>\n",
       "      <th>7</th>\n",
       "      <td>DeBERTa v3</td>\n",
       "      <td>False</td>\n",
       "      <td>enhancement</td>\n",
       "      <td>0.869684</td>\n",
       "    </tr>\n",
       "    <tr>\n",
       "      <th>8</th>\n",
       "      <td>BERT</td>\n",
       "      <td>False</td>\n",
       "      <td>documentation</td>\n",
       "      <td>0.873529</td>\n",
       "    </tr>\n",
       "    <tr>\n",
       "      <th>9</th>\n",
       "      <td>distilBERT</td>\n",
       "      <td>False</td>\n",
       "      <td>documentation</td>\n",
       "      <td>0.878399</td>\n",
       "    </tr>\n",
       "    <tr>\n",
       "      <th>10</th>\n",
       "      <td>RoBERTa</td>\n",
       "      <td>False</td>\n",
       "      <td>documentation</td>\n",
       "      <td>0.882585</td>\n",
       "    </tr>\n",
       "    <tr>\n",
       "      <th>11</th>\n",
       "      <td>DeBERTa v3</td>\n",
       "      <td>False</td>\n",
       "      <td>documentation</td>\n",
       "      <td>0.886369</td>\n",
       "    </tr>\n",
       "    <tr>\n",
       "      <th>12</th>\n",
       "      <td>BERT</td>\n",
       "      <td>False</td>\n",
       "      <td>question</td>\n",
       "      <td>0.813644</td>\n",
       "    </tr>\n",
       "    <tr>\n",
       "      <th>13</th>\n",
       "      <td>distilBERT</td>\n",
       "      <td>False</td>\n",
       "      <td>question</td>\n",
       "      <td>0.827072</td>\n",
       "    </tr>\n",
       "    <tr>\n",
       "      <th>14</th>\n",
       "      <td>RoBERTa</td>\n",
       "      <td>False</td>\n",
       "      <td>question</td>\n",
       "      <td>0.831816</td>\n",
       "    </tr>\n",
       "    <tr>\n",
       "      <th>15</th>\n",
       "      <td>DeBERTa v3</td>\n",
       "      <td>False</td>\n",
       "      <td>question</td>\n",
       "      <td>0.828503</td>\n",
       "    </tr>\n",
       "  </tbody>\n",
       "</table>\n",
       "</div>\n",
       "      <button class=\"colab-df-convert\" onclick=\"convertToInteractive('df-8640c95d-3ffa-4564-a01a-8970151c1159')\"\n",
       "              title=\"Convert this dataframe to an interactive table.\"\n",
       "              style=\"display:none;\">\n",
       "        \n",
       "  <svg xmlns=\"http://www.w3.org/2000/svg\" height=\"24px\"viewBox=\"0 0 24 24\"\n",
       "       width=\"24px\">\n",
       "    <path d=\"M0 0h24v24H0V0z\" fill=\"none\"/>\n",
       "    <path d=\"M18.56 5.44l.94 2.06.94-2.06 2.06-.94-2.06-.94-.94-2.06-.94 2.06-2.06.94zm-11 1L8.5 8.5l.94-2.06 2.06-.94-2.06-.94L8.5 2.5l-.94 2.06-2.06.94zm10 10l.94 2.06.94-2.06 2.06-.94-2.06-.94-.94-2.06-.94 2.06-2.06.94z\"/><path d=\"M17.41 7.96l-1.37-1.37c-.4-.4-.92-.59-1.43-.59-.52 0-1.04.2-1.43.59L10.3 9.45l-7.72 7.72c-.78.78-.78 2.05 0 2.83L4 21.41c.39.39.9.59 1.41.59.51 0 1.02-.2 1.41-.59l7.78-7.78 2.81-2.81c.8-.78.8-2.07 0-2.86zM5.41 20L4 18.59l7.72-7.72 1.47 1.35L5.41 20z\"/>\n",
       "  </svg>\n",
       "      </button>\n",
       "      \n",
       "  <style>\n",
       "    .colab-df-container {\n",
       "      display:flex;\n",
       "      flex-wrap:wrap;\n",
       "      gap: 12px;\n",
       "    }\n",
       "\n",
       "    .colab-df-convert {\n",
       "      background-color: #E8F0FE;\n",
       "      border: none;\n",
       "      border-radius: 50%;\n",
       "      cursor: pointer;\n",
       "      display: none;\n",
       "      fill: #1967D2;\n",
       "      height: 32px;\n",
       "      padding: 0 0 0 0;\n",
       "      width: 32px;\n",
       "    }\n",
       "\n",
       "    .colab-df-convert:hover {\n",
       "      background-color: #E2EBFA;\n",
       "      box-shadow: 0px 1px 2px rgba(60, 64, 67, 0.3), 0px 1px 3px 1px rgba(60, 64, 67, 0.15);\n",
       "      fill: #174EA6;\n",
       "    }\n",
       "\n",
       "    [theme=dark] .colab-df-convert {\n",
       "      background-color: #3B4455;\n",
       "      fill: #D2E3FC;\n",
       "    }\n",
       "\n",
       "    [theme=dark] .colab-df-convert:hover {\n",
       "      background-color: #434B5C;\n",
       "      box-shadow: 0px 1px 3px 1px rgba(0, 0, 0, 0.15);\n",
       "      filter: drop-shadow(0px 1px 2px rgba(0, 0, 0, 0.3));\n",
       "      fill: #FFFFFF;\n",
       "    }\n",
       "  </style>\n",
       "\n",
       "      <script>\n",
       "        const buttonEl =\n",
       "          document.querySelector('#df-8640c95d-3ffa-4564-a01a-8970151c1159 button.colab-df-convert');\n",
       "        buttonEl.style.display =\n",
       "          google.colab.kernel.accessAllowed ? 'block' : 'none';\n",
       "\n",
       "        async function convertToInteractive(key) {\n",
       "          const element = document.querySelector('#df-8640c95d-3ffa-4564-a01a-8970151c1159');\n",
       "          const dataTable =\n",
       "            await google.colab.kernel.invokeFunction('convertToInteractive',\n",
       "                                                     [key], {});\n",
       "          if (!dataTable) return;\n",
       "\n",
       "          const docLinkHtml = 'Like what you see? Visit the ' +\n",
       "            '<a target=\"_blank\" href=https://colab.research.google.com/notebooks/data_table.ipynb>data table notebook</a>'\n",
       "            + ' to learn more about interactive tables.';\n",
       "          element.innerHTML = '';\n",
       "          dataTable['output_type'] = 'display_data';\n",
       "          await google.colab.output.renderOutput(dataTable, element);\n",
       "          const docLink = document.createElement('div');\n",
       "          docLink.innerHTML = docLinkHtml;\n",
       "          element.appendChild(docLink);\n",
       "        }\n",
       "      </script>\n",
       "    </div>\n",
       "  </div>\n",
       "  "
      ]
     },
     "metadata": {},
     "execution_count": 27
    }
   ]
  },
  {
   "cell_type": "code",
   "source": [
    "_, ax = plt.subplots()\n",
    "bar = sns.barplot(metrics_melt,\n",
    "                  x=\"value\", y=\"model\", hue=\"label\")\n",
    "ax.set_xlim(0, 1)\n",
    "ax.set_xlabel(\"F1-мера\")\n",
    "ax.set_ylabel(\"\")\n",
    "ax.get_legend().set_title('Метка')\n",
    "sns.move_legend(bar, \"upper left\", bbox_to_anchor=(1, 1))\n",
    "plt.show()"
   ],
   "metadata": {
    "colab": {
     "base_uri": "https://localhost:8080/",
     "height": 458
    },
    "id": "tzdc6mfuPB9z",
    "outputId": "d8764bb1-4e03-4c8a-d40e-6a738997a5ab",
    "pycharm": {
     "name": "#%%\n"
    }
   },
   "execution_count": 28,
   "outputs": [
    {
     "output_type": "display_data",
     "data": {
      "text/plain": [
       "<Figure size 640x480 with 1 Axes>"
      ],
      "image/png": "[encoded data removed]"
     },
     "metadata": {}
    }
   ]
  },
  {
   "cell_type": "code",
   "source": [
    "_, ax = plt.subplots()\n",
    "bar = sns.barplot(metrics_melt,\n",
    "                  x=\"value\", y=\"model\", hue=\"label\")\n",
    "ax.set_xlim(0.8, 0.9)\n",
    "ax.set_xlabel(\"F1-мера\")\n",
    "ax.set_ylabel(\"\")\n",
    "ax.get_legend().set_title('Метка')\n",
    "sns.move_legend(bar, \"upper left\", bbox_to_anchor=(1, 1))\n",
    "plt.show()"
   ],
   "metadata": {
    "colab": {
     "base_uri": "https://localhost:8080/",
     "height": 458
    },
    "id": "cLnp3guVPD0f",
    "outputId": "7cd9a45f-78c4-4a54-a299-700398ecd4a5",
    "pycharm": {
     "name": "#%%\n"
    }
   },
   "execution_count": 29,
   "outputs": [
    {
     "output_type": "display_data",
     "data": {
      "text/plain": [
       "<Figure size 640x480 with 1 Axes>"
      ],
      "image/png": "[encoded data removed]"
     },
     "metadata": {}
    }
   ]
  }
 ]
}