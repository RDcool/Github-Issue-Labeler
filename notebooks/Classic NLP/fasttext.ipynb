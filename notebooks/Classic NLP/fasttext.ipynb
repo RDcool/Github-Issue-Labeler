{
 "cells": [
  {
   "cell_type": "markdown",
   "source": [
    "# Модель fasttext"
   ],
   "metadata": {
    "collapsed": false,
    "pycharm": {
     "name": "#%% md\n"
    }
   }
  },
  {
   "cell_type": "code",
   "execution_count": 1,
   "outputs": [],
   "source": [
    "from sklearn.model_selection import train_test_split\n",
    "from sklearn.metrics import classification_report, f1_score, accuracy_score\n",
    "\n",
    "import pandas as pd\n",
    "import re\n",
    "import fasttext\n",
    "import seaborn as sns\n",
    "import matplotlib.pyplot as plt\n",
    "\n",
    "%matplotlib inline\n",
    "sns.set(style='whitegrid')"
   ],
   "metadata": {
    "collapsed": false,
    "pycharm": {
     "name": "#%%\n"
    }
   }
  },
  {
   "cell_type": "markdown",
   "source": [
    "## Загрузка набора данных"
   ],
   "metadata": {
    "collapsed": false,
    "pycharm": {
     "name": "#%% md\n"
    }
   }
  },
  {
   "cell_type": "code",
   "execution_count": 2,
   "outputs": [
    {
     "data": {
      "text/plain": "   labels                                               text\n0       3  Encoding issue. Great project, I am testing ou...\n1       2  Update with feedback from Connor. All the comm...\n2       2  ProductInventory. Description  Describe what d...\n3       1  Docs for `IConstructorSelector` optimization. ...\n4       3  New user options table does not support (error...",
      "text/html": "<div>\n<style scoped>\n    .dataframe tbody tr th:only-of-type {\n        vertical-align: middle;\n    }\n\n    .dataframe tbody tr th {\n        vertical-align: top;\n    }\n\n    .dataframe thead th {\n        text-align: right;\n    }\n</style>\n<table border=\"1\" class=\"dataframe\">\n  <thead>\n    <tr style=\"text-align: right;\">\n      <th></th>\n      <th>labels</th>\n      <th>text</th>\n    </tr>\n  </thead>\n  <tbody>\n    <tr>\n      <th>0</th>\n      <td>3</td>\n      <td>Encoding issue. Great project, I am testing ou...</td>\n    </tr>\n    <tr>\n      <th>1</th>\n      <td>2</td>\n      <td>Update with feedback from Connor. All the comm...</td>\n    </tr>\n    <tr>\n      <th>2</th>\n      <td>2</td>\n      <td>ProductInventory. Description  Describe what d...</td>\n    </tr>\n    <tr>\n      <th>3</th>\n      <td>1</td>\n      <td>Docs for `IConstructorSelector` optimization. ...</td>\n    </tr>\n    <tr>\n      <th>4</th>\n      <td>3</td>\n      <td>New user options table does not support (error...</td>\n    </tr>\n  </tbody>\n</table>\n</div>"
     },
     "execution_count": 2,
     "metadata": {},
     "output_type": "execute_result"
    }
   ],
   "source": [
    "data = pd.read_csv(\"data/preprocessed/issue_data_encoded_small.csv\")\n",
    "data.head()"
   ],
   "metadata": {
    "collapsed": false,
    "pycharm": {
     "name": "#%%\n"
    }
   }
  },
  {
   "cell_type": "code",
   "execution_count": 3,
   "outputs": [
    {
     "data": {
      "text/plain": "(80000, 2)"
     },
     "execution_count": 3,
     "metadata": {},
     "output_type": "execute_result"
    }
   ],
   "source": [
    "# Размер набора данных\n",
    "data.shape"
   ],
   "metadata": {
    "collapsed": false,
    "pycharm": {
     "name": "#%%\n"
    }
   }
  },
  {
   "cell_type": "code",
   "execution_count": 4,
   "outputs": [
    {
     "data": {
      "text/plain": "3    20000\n2    20000\n1    20000\n0    20000\nName: labels, dtype: int64"
     },
     "execution_count": 4,
     "metadata": {},
     "output_type": "execute_result"
    }
   ],
   "source": [
    "# Количество экземляров каждого класса\n",
    "data.labels.value_counts()"
   ],
   "metadata": {
    "collapsed": false,
    "pycharm": {
     "name": "#%%\n"
    }
   }
  },
  {
   "cell_type": "markdown",
   "source": [
    "## Предобработка датасета для модели fasttext"
   ],
   "metadata": {
    "collapsed": false,
    "pycharm": {
     "name": "#%% md\n"
    }
   }
  },
  {
   "cell_type": "code",
   "execution_count": 5,
   "outputs": [],
   "source": [
    "# Приведение меток к специальному формату\n",
    "data['labels'] = data['labels'].map({\n",
    "    0: \"__label__bug\",\n",
    "    1: \"__label__enhancement\",\n",
    "    2: \"__label__documentation\",\n",
    "    3: \"__label__question\"\n",
    "})"
   ],
   "metadata": {
    "collapsed": false,
    "pycharm": {
     "name": "#%%\n"
    }
   }
  },
  {
   "cell_type": "code",
   "execution_count": 6,
   "outputs": [
    {
     "data": {
      "text/plain": "                       labels  \\\n75417       __label__question   \n73432  __label__documentation   \n41414            __label__bug   \n62761  __label__documentation   \n75744       __label__question   \n64936  __label__documentation   \n45427            __label__bug   \n41754       __label__question   \n49319            __label__bug   \n57879            __label__bug   \n\n                                                    text  \n75417  google.auth.exceptions.RefreshError: . Hi Team...  \n73432   [UI] Web-Landing Page_V3. V2 landing page mockup  \n41414  Properly handle 404s from the history API on s...  \n62761  Update Getting Started documentation. User Fee...  \n75744  [Support,Feature] How to revert from pyramid t...  \n64936  UI main wireframe. Should we use something sim...  \n45427  Step back time/position not saved in state. Te...  \n41754  [Question] [URGENT]Telegram not responding to ...  \n49319  Icomoon field doesn’t work when use it in repe...  \n57879  Kirby Cog missing. Kirby not working It seems ...  ",
      "text/html": "<div>\n<style scoped>\n    .dataframe tbody tr th:only-of-type {\n        vertical-align: middle;\n    }\n\n    .dataframe tbody tr th {\n        vertical-align: top;\n    }\n\n    .dataframe thead th {\n        text-align: right;\n    }\n</style>\n<table border=\"1\" class=\"dataframe\">\n  <thead>\n    <tr style=\"text-align: right;\">\n      <th></th>\n      <th>labels</th>\n      <th>text</th>\n    </tr>\n  </thead>\n  <tbody>\n    <tr>\n      <th>75417</th>\n      <td>__label__question</td>\n      <td>google.auth.exceptions.RefreshError: . Hi Team...</td>\n    </tr>\n    <tr>\n      <th>73432</th>\n      <td>__label__documentation</td>\n      <td>[UI] Web-Landing Page_V3. V2 landing page mockup</td>\n    </tr>\n    <tr>\n      <th>41414</th>\n      <td>__label__bug</td>\n      <td>Properly handle 404s from the history API on s...</td>\n    </tr>\n    <tr>\n      <th>62761</th>\n      <td>__label__documentation</td>\n      <td>Update Getting Started documentation. User Fee...</td>\n    </tr>\n    <tr>\n      <th>75744</th>\n      <td>__label__question</td>\n      <td>[Support,Feature] How to revert from pyramid t...</td>\n    </tr>\n    <tr>\n      <th>64936</th>\n      <td>__label__documentation</td>\n      <td>UI main wireframe. Should we use something sim...</td>\n    </tr>\n    <tr>\n      <th>45427</th>\n      <td>__label__bug</td>\n      <td>Step back time/position not saved in state. Te...</td>\n    </tr>\n    <tr>\n      <th>41754</th>\n      <td>__label__question</td>\n      <td>[Question] [URGENT]Telegram not responding to ...</td>\n    </tr>\n    <tr>\n      <th>49319</th>\n      <td>__label__bug</td>\n      <td>Icomoon field doesn’t work when use it in repe...</td>\n    </tr>\n    <tr>\n      <th>57879</th>\n      <td>__label__bug</td>\n      <td>Kirby Cog missing. Kirby not working It seems ...</td>\n    </tr>\n  </tbody>\n</table>\n</div>"
     },
     "execution_count": 6,
     "metadata": {},
     "output_type": "execute_result"
    }
   ],
   "source": [
    "data.sample(10)"
   ],
   "metadata": {
    "collapsed": false,
    "pycharm": {
     "name": "#%%\n"
    }
   }
  },
  {
   "cell_type": "code",
   "execution_count": 7,
   "outputs": [],
   "source": [
    "# Удаление знаков препинания\n",
    "def preproccess(text):\n",
    "    text = re.sub(r'[^\\w\\s\\']', ' ', text)\n",
    "    text = re.sub(r' +', ' ', text)\n",
    "    return text.strip().lower()"
   ],
   "metadata": {
    "collapsed": false,
    "pycharm": {
     "name": "#%%\n"
    }
   }
  },
  {
   "cell_type": "code",
   "execution_count": 8,
   "outputs": [],
   "source": [
    "data.text = data.text.apply(preproccess)"
   ],
   "metadata": {
    "collapsed": false,
    "pycharm": {
     "name": "#%%\n"
    }
   }
  },
  {
   "cell_type": "code",
   "execution_count": 9,
   "outputs": [
    {
     "data": {
      "text/plain": "                   labels                                               text  \\\n0       __label__question  encoding issue great project i am testing out ...   \n1  __label__documentation  update with feedback from connor all the comme...   \n2  __label__documentation  productinventory description describe what doc...   \n3    __label__enhancement  docs for iconstructorselector optimization pro...   \n4       __label__question  new user options table does not support errors...   \n\n                                          label_text  \n0  __label__question encoding issue great project...  \n1  __label__documentation update with feedback fr...  \n2  __label__documentation productinventory descri...  \n3  __label__enhancement docs for iconstructorsele...  \n4  __label__question new user options table does ...  ",
      "text/html": "<div>\n<style scoped>\n    .dataframe tbody tr th:only-of-type {\n        vertical-align: middle;\n    }\n\n    .dataframe tbody tr th {\n        vertical-align: top;\n    }\n\n    .dataframe thead th {\n        text-align: right;\n    }\n</style>\n<table border=\"1\" class=\"dataframe\">\n  <thead>\n    <tr style=\"text-align: right;\">\n      <th></th>\n      <th>labels</th>\n      <th>text</th>\n      <th>label_text</th>\n    </tr>\n  </thead>\n  <tbody>\n    <tr>\n      <th>0</th>\n      <td>__label__question</td>\n      <td>encoding issue great project i am testing out ...</td>\n      <td>__label__question encoding issue great project...</td>\n    </tr>\n    <tr>\n      <th>1</th>\n      <td>__label__documentation</td>\n      <td>update with feedback from connor all the comme...</td>\n      <td>__label__documentation update with feedback fr...</td>\n    </tr>\n    <tr>\n      <th>2</th>\n      <td>__label__documentation</td>\n      <td>productinventory description describe what doc...</td>\n      <td>__label__documentation productinventory descri...</td>\n    </tr>\n    <tr>\n      <th>3</th>\n      <td>__label__enhancement</td>\n      <td>docs for iconstructorselector optimization pro...</td>\n      <td>__label__enhancement docs for iconstructorsele...</td>\n    </tr>\n    <tr>\n      <th>4</th>\n      <td>__label__question</td>\n      <td>new user options table does not support errors...</td>\n      <td>__label__question new user options table does ...</td>\n    </tr>\n  </tbody>\n</table>\n</div>"
     },
     "execution_count": 9,
     "metadata": {},
     "output_type": "execute_result"
    }
   ],
   "source": [
    "# Объединение колонок\n",
    "data['label_text'] = data['labels'] + \" \" + data['text']\n",
    "\n",
    "data.head()"
   ],
   "metadata": {
    "collapsed": false,
    "pycharm": {
     "name": "#%%\n"
    }
   }
  },
  {
   "cell_type": "markdown",
   "source": [
    "## Разделение на обучающую и тестовые выборки"
   ],
   "metadata": {
    "collapsed": false,
    "pycharm": {
     "name": "#%% md\n"
    }
   }
  },
  {
   "cell_type": "code",
   "execution_count": 10,
   "outputs": [],
   "source": [
    "train, test = train_test_split(data, test_size=0.2, random_state=7)"
   ],
   "metadata": {
    "collapsed": false,
    "pycharm": {
     "name": "#%%\n"
    }
   }
  },
  {
   "cell_type": "code",
   "execution_count": 11,
   "outputs": [
    {
     "data": {
      "text/plain": "(64000, 3)"
     },
     "execution_count": 11,
     "metadata": {},
     "output_type": "execute_result"
    }
   ],
   "source": [
    "# Размер обучающей выборки\n",
    "train.shape"
   ],
   "metadata": {
    "collapsed": false,
    "pycharm": {
     "name": "#%%\n"
    }
   }
  },
  {
   "cell_type": "code",
   "execution_count": 12,
   "outputs": [
    {
     "data": {
      "text/plain": "(16000, 3)"
     },
     "execution_count": 12,
     "metadata": {},
     "output_type": "execute_result"
    }
   ],
   "source": [
    "# Размер тестовой выборки\n",
    "test.shape"
   ],
   "metadata": {
    "collapsed": false,
    "pycharm": {
     "name": "#%%\n"
    }
   }
  },
  {
   "cell_type": "code",
   "execution_count": 13,
   "outputs": [],
   "source": [
    "# Сохранение выборок\n",
    "train.to_csv(\"fasttext/issues.train\", columns=[\"label_text\"], index=False, header=False)\n",
    "test.to_csv(\"fasttext/issues.test\", columns=[\"label_text\"], index=False, header=False)"
   ],
   "metadata": {
    "collapsed": false,
    "pycharm": {
     "name": "#%%\n"
    }
   }
  },
  {
   "cell_type": "markdown",
   "source": [
    "## Обучение модели"
   ],
   "metadata": {
    "collapsed": false,
    "pycharm": {
     "name": "#%% md\n"
    }
   }
  },
  {
   "cell_type": "code",
   "execution_count": 14,
   "outputs": [
    {
     "name": "stdout",
     "output_type": "stream",
     "text": [
      "CPU times: total: 13.6 s\n",
      "Wall time: 3.65 s\n"
     ]
    }
   ],
   "source": [
    "%%time\n",
    "# Обучение модели\n",
    "model = fasttext.train_supervised(input=\"fasttext/issues.train\")"
   ],
   "metadata": {
    "collapsed": false,
    "pycharm": {
     "name": "#%%\n"
    }
   }
  },
  {
   "cell_type": "code",
   "execution_count": 15,
   "outputs": [
    {
     "name": "stdout",
     "output_type": "stream",
     "text": [
      "CPU times: total: 406 ms\n",
      "Wall time: 434 ms\n"
     ]
    },
    {
     "data": {
      "text/plain": "(15996, 0.7327456864216054, 0.7327456864216054)"
     },
     "execution_count": 15,
     "metadata": {},
     "output_type": "execute_result"
    }
   ],
   "source": [
    "%%time\n",
    "model.test(\"fasttext/issues.test\")"
   ],
   "metadata": {
    "collapsed": false,
    "pycharm": {
     "name": "#%%\n"
    }
   }
  },
  {
   "cell_type": "code",
   "execution_count": 16,
   "outputs": [],
   "source": [
    "pred_labels = []\n",
    "\n",
    "for text in test[\"text\"]:\n",
    "    text = text.replace(\"\\n\", \" \")\n",
    "    pred_labels.append(model.predict(text)[0][0])"
   ],
   "metadata": {
    "collapsed": false,
    "pycharm": {
     "name": "#%%\n"
    }
   }
  },
  {
   "cell_type": "code",
   "execution_count": 17,
   "outputs": [
    {
     "data": {
      "text/plain": "__label__documentation    4018\n__label__question         4007\n__label__bug              3989\n__label__enhancement      3986\nName: labels, dtype: int64"
     },
     "execution_count": 17,
     "metadata": {},
     "output_type": "execute_result"
    }
   ],
   "source": [
    "test[\"labels\"].value_counts()"
   ],
   "metadata": {
    "collapsed": false,
    "pycharm": {
     "name": "#%%\n"
    }
   }
  },
  {
   "cell_type": "code",
   "execution_count": 18,
   "outputs": [
    {
     "name": "stdout",
     "output_type": "stream",
     "text": [
      "                        precision    recall  f1-score   support\n",
      "\n",
      "          __label__bug       0.71      0.75      0.73      3989\n",
      "  __label__enhancement       0.71      0.75      0.73      3986\n",
      "__label__documentation       0.81      0.73      0.77      4018\n",
      "     __label__question       0.70      0.70      0.70      4007\n",
      "\n",
      "              accuracy                           0.73     16000\n",
      "             macro avg       0.73      0.73      0.73     16000\n",
      "          weighted avg       0.74      0.73      0.73     16000\n",
      "\n"
     ]
    }
   ],
   "source": [
    "print(classification_report(test[\"labels\"], pred_labels,labels=[\"__label__bug\", \"__label__enhancement\", \"__label__documentation\", \"__label__question\"]))"
   ],
   "metadata": {
    "collapsed": false,
    "pycharm": {
     "name": "#%%\n"
    }
   }
  },
  {
   "cell_type": "code",
   "execution_count": 19,
   "outputs": [
    {
     "data": {
      "text/plain": "0.7326874999999999"
     },
     "execution_count": 19,
     "metadata": {},
     "output_type": "execute_result"
    }
   ],
   "source": [
    "f1_score(test[\"labels\"], pred_labels, average=\"micro\")"
   ],
   "metadata": {
    "collapsed": false,
    "pycharm": {
     "name": "#%%\n"
    }
   }
  },
  {
   "cell_type": "code",
   "execution_count": 20,
   "outputs": [
    {
     "data": {
      "text/plain": "array([0.73152227, 0.72778389, 0.77114103, 0.70210105])"
     },
     "execution_count": 20,
     "metadata": {},
     "output_type": "execute_result"
    }
   ],
   "source": [
    "f1_score(test[\"labels\"], pred_labels, average=None,\n",
    "         labels=[\"__label__bug\", \"__label__enhancement\", \"__label__documentation\", \"__label__question\"])"
   ],
   "metadata": {
    "collapsed": false,
    "pycharm": {
     "name": "#%%\n"
    }
   }
  },
  {
   "cell_type": "code",
   "execution_count": 21,
   "outputs": [
    {
     "data": {
      "text/plain": "0.7326875"
     },
     "execution_count": 21,
     "metadata": {},
     "output_type": "execute_result"
    }
   ],
   "source": [
    "accuracy_score(test[\"labels\"], pred_labels)"
   ],
   "metadata": {
    "collapsed": false,
    "pycharm": {
     "name": "#%%\n"
    }
   }
  },
  {
   "cell_type": "code",
   "execution_count": 22,
   "outputs": [],
   "source": [
    "# Создание датафрейма с метриками\n",
    "f1_for_classes = f1_score(test[\"labels\"], pred_labels, average=None,\n",
    "                          labels=[\"__label__bug\", \"__label__enhancement\", \"__label__documentation\", \"__label__question\"])\n",
    "\n",
    "metrics_data = pd.DataFrame(data={\"model\" :\"fasttext\",\n",
    "                                  \"accuracy\": accuracy_score(test[\"labels\"], pred_labels),\n",
    "                                  \"f1_avg\" : f1_score(test[\"labels\"], pred_labels, average=\"micro\"),\n",
    "                                  \"f1_bug\" : f1_for_classes[0],\n",
    "                                  \"f1_enh\" : f1_for_classes[1],\n",
    "                                  \"f1_doc\" : f1_for_classes[2],\n",
    "                                  \"f1_que\" : f1_for_classes[3],\n",
    "                                  \"extra_processed\": False},\n",
    "                            index=[0]\n",
    "                            )"
   ],
   "metadata": {
    "collapsed": false,
    "pycharm": {
     "name": "#%%\n"
    }
   }
  },
  {
   "cell_type": "code",
   "execution_count": 23,
   "outputs": [],
   "source": [
    "# Сохранение датасета\n",
    "metrics_data.to_csv(\"data/metrics/fasttext.csv\", sep=\",\", index=False, header=False)"
   ],
   "metadata": {
    "collapsed": false,
    "pycharm": {
     "name": "#%%\n"
    }
   }
  }
 ],
 "metadata": {
  "kernelspec": {
   "display_name": "Python 3",
   "language": "python",
   "name": "python3"
  },
  "language_info": {
   "codemirror_mode": {
    "name": "ipython",
    "version": 2
   },
   "file_extension": ".py",
   "mimetype": "text/x-python",
   "name": "python",
   "nbconvert_exporter": "python",
   "pygments_lexer": "ipython2",
   "version": "2.7.6"
  }
 },
 "nbformat": 4,
 "nbformat_minor": 0
}