{
 "cells": [
  {
   "cell_type": "markdown",
   "source": [
    "# Модель fasttext"
   ],
   "metadata": {
    "collapsed": false,
    "pycharm": {
     "name": "#%% md\n"
    }
   }
  },
  {
   "cell_type": "code",
   "execution_count": 2,
   "outputs": [],
   "source": [
    "from sklearn.model_selection import train_test_split\n",
    "from sklearn.metrics import classification_report, f1_score, accuracy_score\n",
    "\n",
    "import pandas as pd\n",
    "import re\n",
    "import fasttext\n",
    "import seaborn as sns\n",
    "import matplotlib.pyplot as plt\n",
    "\n",
    "%matplotlib inline\n",
    "sns.set(style='whitegrid')"
   ],
   "metadata": {
    "collapsed": false,
    "pycharm": {
     "name": "#%%\n"
    }
   }
  },
  {
   "cell_type": "markdown",
   "source": [
    "## Загрузка набора данных"
   ],
   "metadata": {
    "collapsed": false,
    "pycharm": {
     "name": "#%% md\n"
    }
   }
  },
  {
   "cell_type": "code",
   "execution_count": 3,
   "outputs": [
    {
     "data": {
      "text/plain": "   labels                                               text\n0       3  encode issue great project test whether could ...\n1       2  update feedback connor comment connor need upd...\n2       2  productinventory description describe document...\n3       1  docs iconstructorselector optimization problem...\n4       3  new user options table support errors append r...",
      "text/html": "<div>\n<style scoped>\n    .dataframe tbody tr th:only-of-type {\n        vertical-align: middle;\n    }\n\n    .dataframe tbody tr th {\n        vertical-align: top;\n    }\n\n    .dataframe thead th {\n        text-align: right;\n    }\n</style>\n<table border=\"1\" class=\"dataframe\">\n  <thead>\n    <tr style=\"text-align: right;\">\n      <th></th>\n      <th>labels</th>\n      <th>text</th>\n    </tr>\n  </thead>\n  <tbody>\n    <tr>\n      <th>0</th>\n      <td>3</td>\n      <td>encode issue great project test whether could ...</td>\n    </tr>\n    <tr>\n      <th>1</th>\n      <td>2</td>\n      <td>update feedback connor comment connor need upd...</td>\n    </tr>\n    <tr>\n      <th>2</th>\n      <td>2</td>\n      <td>productinventory description describe document...</td>\n    </tr>\n    <tr>\n      <th>3</th>\n      <td>1</td>\n      <td>docs iconstructorselector optimization problem...</td>\n    </tr>\n    <tr>\n      <th>4</th>\n      <td>3</td>\n      <td>new user options table support errors append r...</td>\n    </tr>\n  </tbody>\n</table>\n</div>"
     },
     "execution_count": 3,
     "metadata": {},
     "output_type": "execute_result"
    }
   ],
   "source": [
    "data = pd.read_csv(\"data/preprocessed/issue_data_encoded_small_extra_prep.csv\")\n",
    "data.head()"
   ],
   "metadata": {
    "collapsed": false,
    "pycharm": {
     "name": "#%%\n"
    }
   }
  },
  {
   "cell_type": "code",
   "execution_count": 4,
   "outputs": [
    {
     "data": {
      "text/plain": "(80000, 2)"
     },
     "execution_count": 4,
     "metadata": {},
     "output_type": "execute_result"
    }
   ],
   "source": [
    "# Размер набора данных\n",
    "data.shape"
   ],
   "metadata": {
    "collapsed": false,
    "pycharm": {
     "name": "#%%\n"
    }
   }
  },
  {
   "cell_type": "code",
   "execution_count": 5,
   "outputs": [],
   "source": [
    "data = data.dropna()"
   ],
   "metadata": {
    "collapsed": false,
    "pycharm": {
     "name": "#%%\n"
    }
   }
  },
  {
   "cell_type": "code",
   "execution_count": 6,
   "outputs": [
    {
     "data": {
      "text/plain": "2    20000\n1    20000\n0    20000\n3    19999\nName: labels, dtype: int64"
     },
     "execution_count": 6,
     "metadata": {},
     "output_type": "execute_result"
    }
   ],
   "source": [
    "# Количество экземляров каждого класса\n",
    "data.labels.value_counts()"
   ],
   "metadata": {
    "collapsed": false,
    "pycharm": {
     "name": "#%%\n"
    }
   }
  },
  {
   "cell_type": "markdown",
   "source": [
    "## Предобработка датасета для модели fasttext"
   ],
   "metadata": {
    "collapsed": false,
    "pycharm": {
     "name": "#%% md\n"
    }
   }
  },
  {
   "cell_type": "code",
   "execution_count": 7,
   "outputs": [],
   "source": [
    "# Приведение меток к специальному формату\n",
    "data['labels'] = data['labels'].map({\n",
    "    0: \"__label__bug\",\n",
    "    1: \"__label__enhancement\",\n",
    "    2: \"__label__documentation\",\n",
    "    3: \"__label__question\"\n",
    "})"
   ],
   "metadata": {
    "collapsed": false,
    "pycharm": {
     "name": "#%%\n"
    }
   }
  },
  {
   "cell_type": "code",
   "execution_count": 8,
   "outputs": [
    {
     "data": {
      "text/plain": "                       labels  \\\n6269        __label__question   \n56080    __label__enhancement   \n19733    __label__enhancement   \n58401  __label__documentation   \n12708    __label__enhancement   \n53035    __label__enhancement   \n27447    __label__enhancement   \n33645            __label__bug   \n61466       __label__question   \n13199    __label__enhancement   \n\n                                                    text  \n6269   cant send button chat send message button skyp...  \n56080  hi make pyfastg available conda hi love parser...  \n19733             add dark theme dark need light default  \n58401  dropconnectrate efficientnet document urls iss...  \n12708  todo rework command deployment currently comma...  \n53035  format namespaces problem introduce fmt additi...  \n27447  panelapp panel high confidence green lower con...  \n33645  server go sain school dry run dec 22 2021 need...  \n61466  selection timeline understand correctly differ...  \n13199  configure service core microservice startup co...  ",
      "text/html": "<div>\n<style scoped>\n    .dataframe tbody tr th:only-of-type {\n        vertical-align: middle;\n    }\n\n    .dataframe tbody tr th {\n        vertical-align: top;\n    }\n\n    .dataframe thead th {\n        text-align: right;\n    }\n</style>\n<table border=\"1\" class=\"dataframe\">\n  <thead>\n    <tr style=\"text-align: right;\">\n      <th></th>\n      <th>labels</th>\n      <th>text</th>\n    </tr>\n  </thead>\n  <tbody>\n    <tr>\n      <th>6269</th>\n      <td>__label__question</td>\n      <td>cant send button chat send message button skyp...</td>\n    </tr>\n    <tr>\n      <th>56080</th>\n      <td>__label__enhancement</td>\n      <td>hi make pyfastg available conda hi love parser...</td>\n    </tr>\n    <tr>\n      <th>19733</th>\n      <td>__label__enhancement</td>\n      <td>add dark theme dark need light default</td>\n    </tr>\n    <tr>\n      <th>58401</th>\n      <td>__label__documentation</td>\n      <td>dropconnectrate efficientnet document urls iss...</td>\n    </tr>\n    <tr>\n      <th>12708</th>\n      <td>__label__enhancement</td>\n      <td>todo rework command deployment currently comma...</td>\n    </tr>\n    <tr>\n      <th>53035</th>\n      <td>__label__enhancement</td>\n      <td>format namespaces problem introduce fmt additi...</td>\n    </tr>\n    <tr>\n      <th>27447</th>\n      <td>__label__enhancement</td>\n      <td>panelapp panel high confidence green lower con...</td>\n    </tr>\n    <tr>\n      <th>33645</th>\n      <td>__label__bug</td>\n      <td>server go sain school dry run dec 22 2021 need...</td>\n    </tr>\n    <tr>\n      <th>61466</th>\n      <td>__label__question</td>\n      <td>selection timeline understand correctly differ...</td>\n    </tr>\n    <tr>\n      <th>13199</th>\n      <td>__label__enhancement</td>\n      <td>configure service core microservice startup co...</td>\n    </tr>\n  </tbody>\n</table>\n</div>"
     },
     "execution_count": 8,
     "metadata": {},
     "output_type": "execute_result"
    }
   ],
   "source": [
    "data.sample(10)"
   ],
   "metadata": {
    "collapsed": false,
    "pycharm": {
     "name": "#%%\n"
    }
   }
  },
  {
   "cell_type": "code",
   "execution_count": 9,
   "outputs": [],
   "source": [
    "# Удаление знаков препинания\n",
    "def preproccess(text):\n",
    "    text = re.sub(r'[^\\w\\s\\']', ' ', text)\n",
    "    text = re.sub(r' +', ' ', text)\n",
    "    return text.strip().lower()"
   ],
   "metadata": {
    "collapsed": false,
    "pycharm": {
     "name": "#%%\n"
    }
   }
  },
  {
   "cell_type": "code",
   "execution_count": 10,
   "outputs": [],
   "source": [
    "data.text = data.text.apply(preproccess)"
   ],
   "metadata": {
    "collapsed": false,
    "pycharm": {
     "name": "#%%\n"
    }
   }
  },
  {
   "cell_type": "code",
   "execution_count": 11,
   "outputs": [
    {
     "data": {
      "text/plain": "                   labels                                               text  \\\n0       __label__question  encode issue great project test whether could ...   \n1  __label__documentation  update feedback connor comment connor need upd...   \n2  __label__documentation  productinventory description describe document...   \n3    __label__enhancement  docs iconstructorselector optimization problem...   \n4       __label__question  new user options table support errors append r...   \n\n                                          label_text  \n0  __label__question encode issue great project t...  \n1  __label__documentation update feedback connor ...  \n2  __label__documentation productinventory descri...  \n3  __label__enhancement docs iconstructorselector...  \n4  __label__question new user options table suppo...  ",
      "text/html": "<div>\n<style scoped>\n    .dataframe tbody tr th:only-of-type {\n        vertical-align: middle;\n    }\n\n    .dataframe tbody tr th {\n        vertical-align: top;\n    }\n\n    .dataframe thead th {\n        text-align: right;\n    }\n</style>\n<table border=\"1\" class=\"dataframe\">\n  <thead>\n    <tr style=\"text-align: right;\">\n      <th></th>\n      <th>labels</th>\n      <th>text</th>\n      <th>label_text</th>\n    </tr>\n  </thead>\n  <tbody>\n    <tr>\n      <th>0</th>\n      <td>__label__question</td>\n      <td>encode issue great project test whether could ...</td>\n      <td>__label__question encode issue great project t...</td>\n    </tr>\n    <tr>\n      <th>1</th>\n      <td>__label__documentation</td>\n      <td>update feedback connor comment connor need upd...</td>\n      <td>__label__documentation update feedback connor ...</td>\n    </tr>\n    <tr>\n      <th>2</th>\n      <td>__label__documentation</td>\n      <td>productinventory description describe document...</td>\n      <td>__label__documentation productinventory descri...</td>\n    </tr>\n    <tr>\n      <th>3</th>\n      <td>__label__enhancement</td>\n      <td>docs iconstructorselector optimization problem...</td>\n      <td>__label__enhancement docs iconstructorselector...</td>\n    </tr>\n    <tr>\n      <th>4</th>\n      <td>__label__question</td>\n      <td>new user options table support errors append r...</td>\n      <td>__label__question new user options table suppo...</td>\n    </tr>\n  </tbody>\n</table>\n</div>"
     },
     "execution_count": 11,
     "metadata": {},
     "output_type": "execute_result"
    }
   ],
   "source": [
    "# Объединение колонок\n",
    "data['label_text'] = data['labels'] + \" \" + data['text']\n",
    "\n",
    "data.head()"
   ],
   "metadata": {
    "collapsed": false,
    "pycharm": {
     "name": "#%%\n"
    }
   }
  },
  {
   "cell_type": "markdown",
   "source": [
    "## Разделение на обучающую и тестовые выборки"
   ],
   "metadata": {
    "collapsed": false,
    "pycharm": {
     "name": "#%% md\n"
    }
   }
  },
  {
   "cell_type": "code",
   "execution_count": 12,
   "outputs": [],
   "source": [
    "train, test = train_test_split(data, test_size=0.2, random_state=7)"
   ],
   "metadata": {
    "collapsed": false,
    "pycharm": {
     "name": "#%%\n"
    }
   }
  },
  {
   "cell_type": "code",
   "execution_count": 13,
   "outputs": [
    {
     "data": {
      "text/plain": "(63999, 3)"
     },
     "execution_count": 13,
     "metadata": {},
     "output_type": "execute_result"
    }
   ],
   "source": [
    "# Размер обучающей выборки\n",
    "train.shape"
   ],
   "metadata": {
    "collapsed": false,
    "pycharm": {
     "name": "#%%\n"
    }
   }
  },
  {
   "cell_type": "code",
   "execution_count": 14,
   "outputs": [
    {
     "data": {
      "text/plain": "(16000, 3)"
     },
     "execution_count": 14,
     "metadata": {},
     "output_type": "execute_result"
    }
   ],
   "source": [
    "# Размер тестовой выборки\n",
    "test.shape"
   ],
   "metadata": {
    "collapsed": false,
    "pycharm": {
     "name": "#%%\n"
    }
   }
  },
  {
   "cell_type": "code",
   "execution_count": 15,
   "outputs": [],
   "source": [
    "# Сохранение выборок\n",
    "train.to_csv(\"fasttext/issues.train\", columns=[\"label_text\"], index=False, header=False)\n",
    "test.to_csv(\"fasttext/issues.test\", columns=[\"label_text\"], index=False, header=False)"
   ],
   "metadata": {
    "collapsed": false,
    "pycharm": {
     "name": "#%%\n"
    }
   }
  },
  {
   "cell_type": "markdown",
   "source": [
    "## Обучение модели"
   ],
   "metadata": {
    "collapsed": false,
    "pycharm": {
     "name": "#%% md\n"
    }
   }
  },
  {
   "cell_type": "code",
   "execution_count": 16,
   "outputs": [
    {
     "name": "stdout",
     "output_type": "stream",
     "text": [
      "CPU times: total: 9.02 s\n",
      "Wall time: 2.67 s\n"
     ]
    }
   ],
   "source": [
    "%%time\n",
    "# Обучение модели\n",
    "model = fasttext.train_supervised(input=\"fasttext/issues.train\")"
   ],
   "metadata": {
    "collapsed": false,
    "pycharm": {
     "name": "#%%\n"
    }
   }
  },
  {
   "cell_type": "code",
   "execution_count": 17,
   "outputs": [
    {
     "name": "stdout",
     "output_type": "stream",
     "text": [
      "CPU times: total: 250 ms\n",
      "Wall time: 247 ms\n"
     ]
    },
    {
     "data": {
      "text/plain": "(16000, 0.7074375, 0.7074375)"
     },
     "execution_count": 17,
     "metadata": {},
     "output_type": "execute_result"
    }
   ],
   "source": [
    "%%time\n",
    "model.test(\"fasttext/issues.test\")"
   ],
   "metadata": {
    "collapsed": false,
    "pycharm": {
     "name": "#%%\n"
    }
   }
  },
  {
   "cell_type": "code",
   "execution_count": 18,
   "outputs": [],
   "source": [
    "pred_labels = []\n",
    "\n",
    "for text in test[\"text\"]:\n",
    "    text = text.replace(\"\\n\", \" \")\n",
    "    pred_labels.append(model.predict(text)[0][0])"
   ],
   "metadata": {
    "collapsed": false,
    "pycharm": {
     "name": "#%%\n"
    }
   }
  },
  {
   "cell_type": "code",
   "execution_count": 19,
   "outputs": [
    {
     "data": {
      "text/plain": "__label__bug              4045\n__label__question         4004\n__label__documentation    4001\n__label__enhancement      3950\nName: labels, dtype: int64"
     },
     "execution_count": 19,
     "metadata": {},
     "output_type": "execute_result"
    }
   ],
   "source": [
    "test[\"labels\"].value_counts()"
   ],
   "metadata": {
    "collapsed": false,
    "pycharm": {
     "name": "#%%\n"
    }
   }
  },
  {
   "cell_type": "code",
   "execution_count": 20,
   "outputs": [
    {
     "name": "stdout",
     "output_type": "stream",
     "text": [
      "                        precision    recall  f1-score   support\n",
      "\n",
      "          __label__bug       0.70      0.74      0.72      4045\n",
      "  __label__enhancement       0.68      0.71      0.70      3950\n",
      "__label__documentation       0.80      0.73      0.76      4001\n",
      "     __label__question       0.66      0.66      0.66      4004\n",
      "\n",
      "              accuracy                           0.71     16000\n",
      "             macro avg       0.71      0.71      0.71     16000\n",
      "          weighted avg       0.71      0.71      0.71     16000\n",
      "\n"
     ]
    }
   ],
   "source": [
    "print(classification_report(test[\"labels\"], pred_labels,labels=[\"__label__bug\", \"__label__enhancement\", \"__label__documentation\", \"__label__question\"]))"
   ],
   "metadata": {
    "collapsed": false,
    "pycharm": {
     "name": "#%%\n"
    }
   }
  },
  {
   "cell_type": "code",
   "execution_count": 21,
   "outputs": [
    {
     "data": {
      "text/plain": "0.7074375"
     },
     "execution_count": 21,
     "metadata": {},
     "output_type": "execute_result"
    }
   ],
   "source": [
    "f1_score(test[\"labels\"], pred_labels, average=\"micro\")"
   ],
   "metadata": {
    "collapsed": false,
    "pycharm": {
     "name": "#%%\n"
    }
   }
  },
  {
   "cell_type": "code",
   "execution_count": 22,
   "outputs": [
    {
     "data": {
      "text/plain": "array([0.71848638, 0.69504605, 0.76153143, 0.65676856])"
     },
     "execution_count": 22,
     "metadata": {},
     "output_type": "execute_result"
    }
   ],
   "source": [
    "f1_score(test[\"labels\"], pred_labels, average=None,\n",
    "         labels=[\"__label__bug\", \"__label__enhancement\", \"__label__documentation\", \"__label__question\"])"
   ],
   "metadata": {
    "collapsed": false,
    "pycharm": {
     "name": "#%%\n"
    }
   }
  },
  {
   "cell_type": "code",
   "execution_count": 23,
   "outputs": [
    {
     "data": {
      "text/plain": "0.7074375"
     },
     "execution_count": 23,
     "metadata": {},
     "output_type": "execute_result"
    }
   ],
   "source": [
    "accuracy_score(test[\"labels\"], pred_labels)"
   ],
   "metadata": {
    "collapsed": false,
    "pycharm": {
     "name": "#%%\n"
    }
   }
  },
  {
   "cell_type": "code",
   "execution_count": 24,
   "outputs": [],
   "source": [
    "# Создание датафрейма с метриками\n",
    "f1_for_classes = f1_score(test[\"labels\"], pred_labels, average=None,\n",
    "                          labels=[\"__label__bug\", \"__label__enhancement\", \"__label__documentation\", \"__label__question\"])\n",
    "\n",
    "metrics_data = pd.DataFrame(data={\"model\" :\"fasttext\",\n",
    "                                  \"accuracy\": accuracy_score(test[\"labels\"], pred_labels),\n",
    "                                  \"f1_avg\" : f1_score(test[\"labels\"], pred_labels, average=\"micro\"),\n",
    "                                  \"f1_bug\" : f1_for_classes[0],\n",
    "                                  \"f1_enh\" : f1_for_classes[1],\n",
    "                                  \"f1_doc\" : f1_for_classes[2],\n",
    "                                  \"f1_que\" : f1_for_classes[3],\n",
    "                                  \"extra_processed\": True},\n",
    "                            index=[0]\n",
    "                            )"
   ],
   "metadata": {
    "collapsed": false,
    "pycharm": {
     "name": "#%%\n"
    }
   }
  },
  {
   "cell_type": "code",
   "execution_count": 25,
   "outputs": [
    {
     "data": {
      "text/plain": "      model  accuracy    f1_avg    f1_bug    f1_enh    f1_doc    f1_que  \\\n0  fasttext  0.707438  0.707438  0.718486  0.695046  0.761531  0.656769   \n\n   extra_processed  \n0             True  ",
      "text/html": "<div>\n<style scoped>\n    .dataframe tbody tr th:only-of-type {\n        vertical-align: middle;\n    }\n\n    .dataframe tbody tr th {\n        vertical-align: top;\n    }\n\n    .dataframe thead th {\n        text-align: right;\n    }\n</style>\n<table border=\"1\" class=\"dataframe\">\n  <thead>\n    <tr style=\"text-align: right;\">\n      <th></th>\n      <th>model</th>\n      <th>accuracy</th>\n      <th>f1_avg</th>\n      <th>f1_bug</th>\n      <th>f1_enh</th>\n      <th>f1_doc</th>\n      <th>f1_que</th>\n      <th>extra_processed</th>\n    </tr>\n  </thead>\n  <tbody>\n    <tr>\n      <th>0</th>\n      <td>fasttext</td>\n      <td>0.707438</td>\n      <td>0.707438</td>\n      <td>0.718486</td>\n      <td>0.695046</td>\n      <td>0.761531</td>\n      <td>0.656769</td>\n      <td>True</td>\n    </tr>\n  </tbody>\n</table>\n</div>"
     },
     "execution_count": 25,
     "metadata": {},
     "output_type": "execute_result"
    }
   ],
   "source": [
    "metrics_data"
   ],
   "metadata": {
    "collapsed": false,
    "pycharm": {
     "name": "#%%\n"
    }
   }
  },
  {
   "cell_type": "code",
   "execution_count": 26,
   "outputs": [],
   "source": [
    "# Сохранение датасета\n",
    "metrics_data.to_csv(\"data/metrics/fasttext_extra.csv\", sep=\",\", index=False, header=False)"
   ],
   "metadata": {
    "collapsed": false,
    "pycharm": {
     "name": "#%%\n"
    }
   }
  }
 ],
 "metadata": {
  "kernelspec": {
   "display_name": "Python 3",
   "language": "python",
   "name": "python3"
  },
  "language_info": {
   "codemirror_mode": {
    "name": "ipython",
    "version": 2
   },
   "file_extension": ".py",
   "mimetype": "text/x-python",
   "name": "python",
   "nbconvert_exporter": "python",
   "pygments_lexer": "ipython2",
   "version": "2.7.6"
  }
 },
 "nbformat": 4,
 "nbformat_minor": 0
}